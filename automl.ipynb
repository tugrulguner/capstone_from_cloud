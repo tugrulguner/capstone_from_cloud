{
  "cells": [
    {
      "cell_type": "markdown",
      "source": [
        "# Automated ML\n",
        "\n",
        "TODO: Import Dependencies. In the cell below, import all the dependencies that you will need to complete the project."
      ],
      "metadata": {}
    },
    {
      "cell_type": "code",
      "source": [
        "import logging\n",
        "import os\n",
        "import csv\n",
        "\n",
        "from matplotlib import pyplot as plt\n",
        "import numpy as np\n",
        "import pandas as pd\n",
        "from sklearn import datasets\n",
        "import pkg_resources\n",
        "\n",
        "from azureml.widgets import RunDetails\n",
        "import azureml.core\n",
        "from azureml.core.experiment import Experiment\n",
        "from azureml.core.workspace import Workspace\n",
        "from azureml.train.automl import AutoMLConfig\n",
        "from azureml.core.dataset import Dataset\n",
        "\n",
        "from azureml.pipeline.steps import AutoMLStep"
      ],
      "outputs": [],
      "execution_count": 1,
      "metadata": {
        "gather": {
          "logged": 1644591634261
        },
        "jupyter": {
          "outputs_hidden": false,
          "source_hidden": false
        },
        "nteract": {
          "transient": {
            "deleting": false
          }
        }
      }
    },
    {
      "cell_type": "markdown",
      "source": [
        "## Dataset\n",
        "\n",
        "### Overview\n",
        "TODO: In this markdown cell, give an overview of the dataset you are using. Also mention the task you will be performing.\n",
        "\n",
        "\n",
        "TODO: Get data. In the cell below, write code to access the data you will be using in this project. Remember that the dataset needs to be external."
      ],
      "metadata": {}
    },
    {
      "cell_type": "code",
      "source": [
        "ws = Workspace.from_config()\n",
        "\n",
        "# choose a name for experiment\n",
        "experiment_name = 'tguner-automl'\n",
        "\n",
        "experiment=Experiment(ws, experiment_name)"
      ],
      "outputs": [],
      "execution_count": 2,
      "metadata": {
        "gather": {
          "logged": 1644591773819
        },
        "jupyter": {
          "outputs_hidden": false,
          "source_hidden": false
        },
        "nteract": {
          "transient": {
            "deleting": false
          }
        }
      }
    },
    {
      "cell_type": "markdown",
      "source": [
        "### Readong the dataset\n",
        "\n",
        "This dataset is a Mobile Price Classification dataset taken from the Kaggle. It contains various features of the cell phones and tries to predict corresponding mobile phone price range. 0(low cost), 1(medium cost), 2(high cost) and 3(very high cost)\n",
        "[Kaggle Dataset Link]('https://www.kaggle.com/iabhishekofficial/mobile-price-classification')"
      ],
      "metadata": {}
    },
    {
      "cell_type": "code",
      "source": [
        "key = \"Mobile Phone Data\"\n",
        "\n",
        "dataset = ws.datasets[key] \n",
        "\n",
        "df = dataset.to_pandas_dataframe()\n",
        "df.describe()"
      ],
      "outputs": [
        {
          "output_type": "execute_result",
          "execution_count": 3,
          "data": {
            "text/plain": "       battery_power       blue  clock_speed     dual_sim           fc  \\\ncount    2000.000000  2000.0000  2000.000000  2000.000000  2000.000000   \nmean     1238.518500     0.4950     1.522250     0.509500     4.309500   \nstd       439.418206     0.5001     0.816004     0.500035     4.341444   \nmin       501.000000     0.0000     0.500000     0.000000     0.000000   \n25%       851.750000     0.0000     0.700000     0.000000     1.000000   \n50%      1226.000000     0.0000     1.500000     1.000000     3.000000   \n75%      1615.250000     1.0000     2.200000     1.000000     7.000000   \nmax      1998.000000     1.0000     3.000000     1.000000    19.000000   \n\n            four_g   int_memory        m_dep    mobile_wt      n_cores  ...  \\\ncount  2000.000000  2000.000000  2000.000000  2000.000000  2000.000000  ...   \nmean      0.521500    32.046500     0.501750   140.249000     4.520500  ...   \nstd       0.499662    18.145715     0.288416    35.399655     2.287837  ...   \nmin       0.000000     2.000000     0.100000    80.000000     1.000000  ...   \n25%       0.000000    16.000000     0.200000   109.000000     3.000000  ...   \n50%       1.000000    32.000000     0.500000   141.000000     4.000000  ...   \n75%       1.000000    48.000000     0.800000   170.000000     7.000000  ...   \nmax       1.000000    64.000000     1.000000   200.000000     8.000000  ...   \n\n         px_height     px_width          ram         sc_h         sc_w  \\\ncount  2000.000000  2000.000000  2000.000000  2000.000000  2000.000000   \nmean    645.108000  1251.515500  2124.213000    12.306500     5.767000   \nstd     443.780811   432.199447  1084.732044     4.213245     4.356398   \nmin       0.000000   500.000000   256.000000     5.000000     0.000000   \n25%     282.750000   874.750000  1207.500000     9.000000     2.000000   \n50%     564.000000  1247.000000  2146.500000    12.000000     5.000000   \n75%     947.250000  1633.000000  3064.500000    16.000000     9.000000   \nmax    1960.000000  1998.000000  3998.000000    19.000000    18.000000   \n\n         talk_time      three_g  touch_screen         wifi  price_range  \ncount  2000.000000  2000.000000   2000.000000  2000.000000  2000.000000  \nmean     11.011000     0.761500      0.503000     0.507000     1.500000  \nstd       5.463955     0.426273      0.500116     0.500076     1.118314  \nmin       2.000000     0.000000      0.000000     0.000000     0.000000  \n25%       6.000000     1.000000      0.000000     0.000000     0.750000  \n50%      11.000000     1.000000      1.000000     1.000000     1.500000  \n75%      16.000000     1.000000      1.000000     1.000000     2.250000  \nmax      20.000000     1.000000      1.000000     1.000000     3.000000  \n\n[8 rows x 21 columns]",
            "text/html": "<div>\n<style scoped>\n    .dataframe tbody tr th:only-of-type {\n        vertical-align: middle;\n    }\n\n    .dataframe tbody tr th {\n        vertical-align: top;\n    }\n\n    .dataframe thead th {\n        text-align: right;\n    }\n</style>\n<table border=\"1\" class=\"dataframe\">\n  <thead>\n    <tr style=\"text-align: right;\">\n      <th></th>\n      <th>battery_power</th>\n      <th>blue</th>\n      <th>clock_speed</th>\n      <th>dual_sim</th>\n      <th>fc</th>\n      <th>four_g</th>\n      <th>int_memory</th>\n      <th>m_dep</th>\n      <th>mobile_wt</th>\n      <th>n_cores</th>\n      <th>...</th>\n      <th>px_height</th>\n      <th>px_width</th>\n      <th>ram</th>\n      <th>sc_h</th>\n      <th>sc_w</th>\n      <th>talk_time</th>\n      <th>three_g</th>\n      <th>touch_screen</th>\n      <th>wifi</th>\n      <th>price_range</th>\n    </tr>\n  </thead>\n  <tbody>\n    <tr>\n      <th>count</th>\n      <td>2000.000000</td>\n      <td>2000.0000</td>\n      <td>2000.000000</td>\n      <td>2000.000000</td>\n      <td>2000.000000</td>\n      <td>2000.000000</td>\n      <td>2000.000000</td>\n      <td>2000.000000</td>\n      <td>2000.000000</td>\n      <td>2000.000000</td>\n      <td>...</td>\n      <td>2000.000000</td>\n      <td>2000.000000</td>\n      <td>2000.000000</td>\n      <td>2000.000000</td>\n      <td>2000.000000</td>\n      <td>2000.000000</td>\n      <td>2000.000000</td>\n      <td>2000.000000</td>\n      <td>2000.000000</td>\n      <td>2000.000000</td>\n    </tr>\n    <tr>\n      <th>mean</th>\n      <td>1238.518500</td>\n      <td>0.4950</td>\n      <td>1.522250</td>\n      <td>0.509500</td>\n      <td>4.309500</td>\n      <td>0.521500</td>\n      <td>32.046500</td>\n      <td>0.501750</td>\n      <td>140.249000</td>\n      <td>4.520500</td>\n      <td>...</td>\n      <td>645.108000</td>\n      <td>1251.515500</td>\n      <td>2124.213000</td>\n      <td>12.306500</td>\n      <td>5.767000</td>\n      <td>11.011000</td>\n      <td>0.761500</td>\n      <td>0.503000</td>\n      <td>0.507000</td>\n      <td>1.500000</td>\n    </tr>\n    <tr>\n      <th>std</th>\n      <td>439.418206</td>\n      <td>0.5001</td>\n      <td>0.816004</td>\n      <td>0.500035</td>\n      <td>4.341444</td>\n      <td>0.499662</td>\n      <td>18.145715</td>\n      <td>0.288416</td>\n      <td>35.399655</td>\n      <td>2.287837</td>\n      <td>...</td>\n      <td>443.780811</td>\n      <td>432.199447</td>\n      <td>1084.732044</td>\n      <td>4.213245</td>\n      <td>4.356398</td>\n      <td>5.463955</td>\n      <td>0.426273</td>\n      <td>0.500116</td>\n      <td>0.500076</td>\n      <td>1.118314</td>\n    </tr>\n    <tr>\n      <th>min</th>\n      <td>501.000000</td>\n      <td>0.0000</td>\n      <td>0.500000</td>\n      <td>0.000000</td>\n      <td>0.000000</td>\n      <td>0.000000</td>\n      <td>2.000000</td>\n      <td>0.100000</td>\n      <td>80.000000</td>\n      <td>1.000000</td>\n      <td>...</td>\n      <td>0.000000</td>\n      <td>500.000000</td>\n      <td>256.000000</td>\n      <td>5.000000</td>\n      <td>0.000000</td>\n      <td>2.000000</td>\n      <td>0.000000</td>\n      <td>0.000000</td>\n      <td>0.000000</td>\n      <td>0.000000</td>\n    </tr>\n    <tr>\n      <th>25%</th>\n      <td>851.750000</td>\n      <td>0.0000</td>\n      <td>0.700000</td>\n      <td>0.000000</td>\n      <td>1.000000</td>\n      <td>0.000000</td>\n      <td>16.000000</td>\n      <td>0.200000</td>\n      <td>109.000000</td>\n      <td>3.000000</td>\n      <td>...</td>\n      <td>282.750000</td>\n      <td>874.750000</td>\n      <td>1207.500000</td>\n      <td>9.000000</td>\n      <td>2.000000</td>\n      <td>6.000000</td>\n      <td>1.000000</td>\n      <td>0.000000</td>\n      <td>0.000000</td>\n      <td>0.750000</td>\n    </tr>\n    <tr>\n      <th>50%</th>\n      <td>1226.000000</td>\n      <td>0.0000</td>\n      <td>1.500000</td>\n      <td>1.000000</td>\n      <td>3.000000</td>\n      <td>1.000000</td>\n      <td>32.000000</td>\n      <td>0.500000</td>\n      <td>141.000000</td>\n      <td>4.000000</td>\n      <td>...</td>\n      <td>564.000000</td>\n      <td>1247.000000</td>\n      <td>2146.500000</td>\n      <td>12.000000</td>\n      <td>5.000000</td>\n      <td>11.000000</td>\n      <td>1.000000</td>\n      <td>1.000000</td>\n      <td>1.000000</td>\n      <td>1.500000</td>\n    </tr>\n    <tr>\n      <th>75%</th>\n      <td>1615.250000</td>\n      <td>1.0000</td>\n      <td>2.200000</td>\n      <td>1.000000</td>\n      <td>7.000000</td>\n      <td>1.000000</td>\n      <td>48.000000</td>\n      <td>0.800000</td>\n      <td>170.000000</td>\n      <td>7.000000</td>\n      <td>...</td>\n      <td>947.250000</td>\n      <td>1633.000000</td>\n      <td>3064.500000</td>\n      <td>16.000000</td>\n      <td>9.000000</td>\n      <td>16.000000</td>\n      <td>1.000000</td>\n      <td>1.000000</td>\n      <td>1.000000</td>\n      <td>2.250000</td>\n    </tr>\n    <tr>\n      <th>max</th>\n      <td>1998.000000</td>\n      <td>1.0000</td>\n      <td>3.000000</td>\n      <td>1.000000</td>\n      <td>19.000000</td>\n      <td>1.000000</td>\n      <td>64.000000</td>\n      <td>1.000000</td>\n      <td>200.000000</td>\n      <td>8.000000</td>\n      <td>...</td>\n      <td>1960.000000</td>\n      <td>1998.000000</td>\n      <td>3998.000000</td>\n      <td>19.000000</td>\n      <td>18.000000</td>\n      <td>20.000000</td>\n      <td>1.000000</td>\n      <td>1.000000</td>\n      <td>1.000000</td>\n      <td>3.000000</td>\n    </tr>\n  </tbody>\n</table>\n<p>8 rows × 21 columns</p>\n</div>"
          },
          "metadata": {}
        }
      ],
      "execution_count": 3,
      "metadata": {
        "gather": {
          "logged": 1644591782485
        }
      }
    },
    {
      "cell_type": "code",
      "source": [
        "from azureml.core.compute import AmlCompute\n",
        "from azureml.core.compute import ComputeTarget\n",
        "from azureml.core.compute_target import ComputeTargetException\n",
        "\n",
        "# NOTE: update the cluster name to match the existing cluster\n",
        "# Choose a name for your CPU cluster\n",
        "amlcompute_cluster_name = \"tugrul-comp\"\n",
        "\n",
        "# Verify that cluster does not exist already\n",
        "try:\n",
        "    compute_target = ComputeTarget(workspace=ws, name=amlcompute_cluster_name)\n",
        "    print('Found existing cluster, use it.')\n",
        "except ComputeTargetException:\n",
        "    compute_config = AmlCompute.provisioning_configuration(vm_size='STANDARD_DS12_V2',# for GPU, use \"STANDARD_NC6\"\n",
        "                                                           #vm_priority = 'lowpriority', # optional\n",
        "                                                           max_nodes=5)\n",
        "    compute_target = ComputeTarget.create(ws, amlcompute_cluster_name, compute_config)\n",
        "\n",
        "compute_target.wait_for_completion(show_output=True)\n",
        "# For a more detailed view of current AmlCompute status, use get_status()."
      ],
      "outputs": [
        {
          "output_type": "stream",
          "name": "stdout",
          "text": "Found existing cluster, use it.\n\nRunning\n"
        }
      ],
      "execution_count": 6,
      "metadata": {
        "gather": {
          "logged": 1644591890465
        }
      }
    },
    {
      "cell_type": "markdown",
      "source": [
        "## AutoML Configuration\n",
        "\n",
        "TODO: Explain why you chose the automl settings and cofiguration you used below."
      ],
      "metadata": {}
    },
    {
      "cell_type": "code",
      "source": [
        "automl_settings = {\n",
        "    \"experiment_timeout_minutes\": 20,\n",
        "    \"max_concurrent_iterations\": 5,\n",
        "    \"primary_metric\" : 'accuracy'\n",
        "}\n",
        "automl_config = AutoMLConfig(compute_target=compute_target,\n",
        "                             task = \"classification\",\n",
        "                             training_data=dataset,\n",
        "                             label_column_name=\"price_range\",   \n",
        "                             enable_early_stopping= True,\n",
        "                             featurization= 'auto',\n",
        "                             debug_log = \"automl_errors.log\",\n",
        "                             **automl_settings\n",
        "                            )"
      ],
      "outputs": [],
      "execution_count": 7,
      "metadata": {
        "gather": {
          "logged": 1644591897680
        },
        "jupyter": {
          "outputs_hidden": false,
          "source_hidden": false
        },
        "nteract": {
          "transient": {
            "deleting": false
          }
        }
      }
    },
    {
      "cell_type": "code",
      "source": [
        "# TODO: Submit your experiment\n",
        "remote_run = experiment.submit(automl_config, show_output=True)"
      ],
      "outputs": [
        {
          "output_type": "stream",
          "name": "stdout",
          "text": "Submitting remote run.\nNo run_configuration provided, running on tugrul-comp with default configuration\nRunning on remote compute: tugrul-comp\n"
        },
        {
          "output_type": "display_data",
          "data": {
            "text/plain": "<IPython.core.display.HTML object>",
            "text/html": "<table style=\"width:100%\"><tr><th>Experiment</th><th>Id</th><th>Type</th><th>Status</th><th>Details Page</th><th>Docs Page</th></tr><tr><td>tguner-automl</td><td>AutoML_1120354f-4b6b-49a4-9fa1-7b0ef45c1f0d</td><td>automl</td><td>NotStarted</td><td><a href=\"https://ml.azure.com/runs/AutoML_1120354f-4b6b-49a4-9fa1-7b0ef45c1f0d?wsid=/subscriptions/f5091c60-1c3c-430f-8d81-d802f6bf2414/resourcegroups/aml-quickstarts-183865/workspaces/quick-starts-ws-183865&amp;tid=660b3398-b80e-49d2-bc5b-ac1dc93b5254\" target=\"_blank\" rel=\"noopener\">Link to Azure Machine Learning studio</a></td><td><a href=\"https://docs.microsoft.com/en-us/python/api/overview/azure/ml/intro?view=azure-ml-py\" target=\"_blank\" rel=\"noopener\">Link to Documentation</a></td></tr></table>"
          },
          "metadata": {}
        },
        {
          "output_type": "stream",
          "name": "stdout",
          "text": "\nCurrent status: FeaturesGeneration. Generating features for the dataset.\nCurrent status: DatasetCrossValidationSplit. Generating individually featurized CV splits.\nCurrent status: ModelSelection. Beginning model selection.\n\n********************************************************************************************\nDATA GUARDRAILS: \n\nTYPE:         Cross validation\nSTATUS:       DONE\nDESCRIPTION:  Each iteration of the trained model was validated through cross-validation.\n              \nDETAILS:      \n+------------------------------+\n|Number of folds               |\n+==============================+\n|3                             |\n+------------------------------+\n\n********************************************************************************************\n\nTYPE:         Class balancing detection\nSTATUS:       PASSED\nDESCRIPTION:  Your inputs were analyzed, and all classes are balanced in your training data.\n              Learn more about imbalanced data: https://aka.ms/AutomatedMLImbalancedData\n\n********************************************************************************************\n\nTYPE:         Missing feature values imputation\nSTATUS:       PASSED\nDESCRIPTION:  No feature missing values were detected in the training data.\n              Learn more about missing value imputation: https://aka.ms/AutomatedMLFeaturization\n\n********************************************************************************************\n\nTYPE:         High cardinality feature detection\nSTATUS:       PASSED\nDESCRIPTION:  Your inputs were analyzed, and no high cardinality features were detected.\n              Learn more about high cardinality feature handling: https://aka.ms/AutomatedMLFeaturization\n\n********************************************************************************************\n\n********************************************************************************************\nITER: The iteration being evaluated.\nPIPELINE: A summary description of the pipeline being evaluated.\nDURATION: Time taken for the current iteration.\nMETRIC: The result of computing score on the fitted pipeline.\nBEST: The best observed score thus far.\n********************************************************************************************\n\n ITER   PIPELINE                                       DURATION            METRIC      BEST\n    0   MaxAbsScaler LightGBM                          0:00:10             0.8985    0.8985\n    4   MaxAbsScaler LightGBM                          0:00:08             0.8275    0.8985\n    1   MaxAbsScaler XGBoostClassifier                 0:00:10             0.8990    0.8990\n    5   MaxAbsScaler LightGBM                          0:00:13             0.8340    0.8990\n    2   MaxAbsScaler ExtremeRandomTrees                0:00:09             0.7385    0.8990\n    3   SparseNormalizer XGBoostClassifier             0:00:09             0.8880    0.8990\n    6   StandardScalerWrapper XGBoostClassifier        0:00:08             0.8475    0.8990\n    7   MaxAbsScaler LogisticRegression                0:00:09             0.8155    0.8990\n    8   StandardScalerWrapper ExtremeRandomTrees       0:00:08             0.6180    0.8990\n   10   SparseNormalizer LightGBM                      0:00:08             0.8265    0.8990\n   11   StandardScalerWrapper XGBoostClassifier        0:00:09             0.8075    0.8990\n   12   MaxAbsScaler LogisticRegression                0:00:09             0.8795    0.8990\n   13   MaxAbsScaler SGD                               0:00:09             0.6870    0.8990\n    9   StandardScalerWrapper XGBoostClassifier        0:00:09             0.8205    0.8990\n   14   StandardScalerWrapper XGBoostClassifier        0:00:08             0.8470    0.8990\n   15   SparseNormalizer RandomForest                  0:00:09             0.8790    0.8990\n   16   StandardScalerWrapper LogisticRegression       0:00:09             0.6775    0.8990\n   17   StandardScalerWrapper RandomForest             0:00:10             0.7955    0.8990\n   18   StandardScalerWrapper XGBoostClassifier        0:00:09             0.8730    0.8990\n   19   TruncatedSVDWrapper RandomForest               0:00:15             0.8885    0.8990\n   20   TruncatedSVDWrapper RandomForest               0:01:02             0.9335    0.9335\n   21   StandardScalerWrapper XGBoostClassifier        0:00:40             0.8440    0.9335\n   22   SparseNormalizer XGBoostClassifier             0:00:44             0.8570    0.9335\n   23   StandardScalerWrapper LogisticRegression       0:00:51             0.8755    0.9335\n   25   SparseNormalizer XGBoostClassifier             0:00:54             0.8955    0.9335\n   24   StandardScalerWrapper RandomForest             0:01:16             0.2475    0.9335\n   27   SparseNormalizer XGBoostClassifier             0:01:08             0.8755    0.9335\n   26   SparseNormalizer XGBoostClassifier             0:00:57             0.8905    0.9335\n   28   SparseNormalizer XGBoostClassifier             0:00:48             0.8720    0.9335\n   29   SparseNormalizer XGBoostClassifier             0:01:00             0.8830    0.9335\n   30   MaxAbsScaler RandomForest                      0:00:49             0.6195    0.9335\n   32   StandardScalerWrapper XGBoostClassifier        0:00:42             0.8515    0.9335\n   33   MaxAbsScaler LightGBM                          0:00:49             0.8080    0.9335\n   31   StandardScalerWrapper GradientBoosting         0:00:52             0.7455    0.9335\n   34   MaxAbsScaler RandomForest                      0:00:44             0.2345    0.9335\n   35   StandardScalerWrapper LightGBM                 0:00:41             0.8505    0.9335\n   36   StandardScalerWrapper LightGBM                 0:00:19             0.7120    0.9335\n   37   StandardScalerWrapper XGBoostClassifier        0:00:43             0.8835    0.9335\n   38    VotingEnsemble                                0:01:14             0.9455    0.9455\n   39    StackEnsemble                                 0:01:24             0.9335    0.9455\n"
        }
      ],
      "execution_count": 8,
      "metadata": {
        "gather": {
          "logged": 1644592739957
        },
        "jupyter": {
          "outputs_hidden": false,
          "source_hidden": false
        },
        "nteract": {
          "transient": {
            "deleting": false
          }
        }
      }
    },
    {
      "cell_type": "markdown",
      "source": [
        "## Run Details\n",
        "\n",
        "OPTIONAL: Write about the different models trained and their performance. Why do you think some models did better than others?\n",
        "\n",
        "TODO: In the cell below, use the `RunDetails` widget to show the different experiments."
      ],
      "metadata": {}
    },
    {
      "cell_type": "code",
      "source": [
        "RunDetails(remote_run).show()"
      ],
      "outputs": [
        {
          "output_type": "display_data",
          "data": {
            "text/plain": "_AutoMLWidget(widget_settings={'childWidgetDisplay': 'popup', 'send_telemetry': False, 'log_level': 'INFO', 's…",
            "application/vnd.jupyter.widget-view+json": {
              "version_major": 2,
              "version_minor": 0,
              "model_id": "bdf8c22e817e46a698f4279f91fbdbcc"
            }
          },
          "metadata": {}
        },
        {
          "output_type": "display_data",
          "data": {
            "application/aml.mini.widget.v1": "{\"status\": \"Completed\", \"workbench_run_details_uri\": \"https://ml.azure.com/runs/AutoML_1120354f-4b6b-49a4-9fa1-7b0ef45c1f0d?wsid=/subscriptions/f5091c60-1c3c-430f-8d81-d802f6bf2414/resourcegroups/aml-quickstarts-183865/workspaces/quick-starts-ws-183865&tid=660b3398-b80e-49d2-bc5b-ac1dc93b5254\", \"run_id\": \"AutoML_1120354f-4b6b-49a4-9fa1-7b0ef45c1f0d\", \"run_properties\": {\"run_id\": \"AutoML_1120354f-4b6b-49a4-9fa1-7b0ef45c1f0d\", \"created_utc\": \"2022-02-11T15:05:07.916973Z\", \"properties\": {\"num_iterations\": \"1000\", \"training_type\": \"TrainFull\", \"acquisition_function\": \"EI\", \"primary_metric\": \"accuracy\", \"train_split\": \"0\", \"acquisition_parameter\": \"0\", \"num_cross_validation\": null, \"target\": \"tugrul-comp\", \"AMLSettingsJsonString\": \"{\\\"path\\\":null,\\\"name\\\":\\\"tguner-automl\\\",\\\"subscription_id\\\":\\\"f5091c60-1c3c-430f-8d81-d802f6bf2414\\\",\\\"resource_group\\\":\\\"aml-quickstarts-183865\\\",\\\"workspace_name\\\":\\\"quick-starts-ws-183865\\\",\\\"region\\\":\\\"southcentralus\\\",\\\"compute_target\\\":\\\"tugrul-comp\\\",\\\"spark_service\\\":null,\\\"azure_service\\\":\\\"remote\\\",\\\"many_models\\\":false,\\\"pipeline_fetch_max_batch_size\\\":1,\\\"enable_batch_run\\\":true,\\\"enable_run_restructure\\\":false,\\\"start_auxiliary_runs_before_parent_complete\\\":false,\\\"enable_code_generation\\\":false,\\\"iterations\\\":1000,\\\"primary_metric\\\":\\\"accuracy\\\",\\\"task_type\\\":\\\"classification\\\",\\\"positive_label\\\":null,\\\"data_script\\\":null,\\\"test_size\\\":0.0,\\\"test_include_predictions_only\\\":false,\\\"validation_size\\\":0.0,\\\"n_cross_validations\\\":null,\\\"y_min\\\":null,\\\"y_max\\\":null,\\\"num_classes\\\":null,\\\"featurization\\\":\\\"auto\\\",\\\"_ignore_package_version_incompatibilities\\\":false,\\\"is_timeseries\\\":false,\\\"max_cores_per_iteration\\\":1,\\\"max_concurrent_iterations\\\":5,\\\"iteration_timeout_minutes\\\":null,\\\"mem_in_mb\\\":null,\\\"enforce_time_on_windows\\\":false,\\\"experiment_timeout_minutes\\\":20,\\\"experiment_exit_score\\\":null,\\\"whitelist_models\\\":null,\\\"blacklist_algos\\\":[\\\"TensorFlowLinearClassifier\\\",\\\"TensorFlowDNN\\\"],\\\"supported_models\\\":[\\\"TensorFlowDNN\\\",\\\"BernoulliNaiveBayes\\\",\\\"SVM\\\",\\\"LightGBM\\\",\\\"LinearSVM\\\",\\\"SGD\\\",\\\"DecisionTree\\\",\\\"ExtremeRandomTrees\\\",\\\"LogisticRegression\\\",\\\"TensorFlowLinearClassifier\\\",\\\"AveragedPerceptronClassifier\\\",\\\"XGBoostClassifier\\\",\\\"KNN\\\",\\\"RandomForest\\\",\\\"GradientBoosting\\\",\\\"MultinomialNaiveBayes\\\"],\\\"private_models\\\":[\\\"TabnetClassifier\\\"],\\\"auto_blacklist\\\":true,\\\"blacklist_samples_reached\\\":false,\\\"exclude_nan_labels\\\":true,\\\"verbosity\\\":20,\\\"_debug_log\\\":\\\"azureml_automl.log\\\",\\\"show_warnings\\\":false,\\\"model_explainability\\\":true,\\\"service_url\\\":null,\\\"sdk_url\\\":null,\\\"sdk_packages\\\":null,\\\"enable_onnx_compatible_models\\\":false,\\\"enable_split_onnx_featurizer_estimator_models\\\":false,\\\"vm_type\\\":\\\"STANDARD_DS12_V2\\\",\\\"telemetry_verbosity\\\":20,\\\"send_telemetry\\\":true,\\\"enable_dnn\\\":false,\\\"scenario\\\":\\\"SDK-1.13.0\\\",\\\"environment_label\\\":null,\\\"save_mlflow\\\":false,\\\"enable_categorical_indicators\\\":false,\\\"force_text_dnn\\\":false,\\\"enable_feature_sweeping\\\":true,\\\"enable_early_stopping\\\":true,\\\"early_stopping_n_iters\\\":10,\\\"arguments\\\":null,\\\"dataset_id\\\":null,\\\"hyperdrive_config\\\":null,\\\"validation_dataset_id\\\":null,\\\"run_source\\\":null,\\\"metrics\\\":null,\\\"enable_metric_confidence\\\":false,\\\"enable_ensembling\\\":true,\\\"enable_stack_ensembling\\\":true,\\\"ensemble_iterations\\\":15,\\\"enable_tf\\\":false,\\\"enable_subsampling\\\":null,\\\"subsample_seed\\\":null,\\\"enable_nimbusml\\\":false,\\\"enable_streaming\\\":false,\\\"force_streaming\\\":false,\\\"track_child_runs\\\":true,\\\"allowed_private_models\\\":[],\\\"label_column_name\\\":\\\"price_range\\\",\\\"weight_column_name\\\":null,\\\"cv_split_column_names\\\":null,\\\"enable_local_managed\\\":false,\\\"_local_managed_run_id\\\":null,\\\"cost_mode\\\":1,\\\"lag_length\\\":0,\\\"metric_operation\\\":\\\"maximize\\\",\\\"preprocess\\\":true}\", \"DataPrepJsonString\": \"{\\\\\\\"training_data\\\\\\\": {\\\\\\\"datasetId\\\\\\\": \\\\\\\"40720be5-5e7e-465c-b287-df3e9cc04825\\\\\\\"}, \\\\\\\"datasets\\\\\\\": 0}\", \"EnableSubsampling\": null, \"runTemplate\": \"AutoML\", \"azureml.runsource\": \"automl\", \"display_task_type\": \"classification\", \"dependencies_versions\": \"{\\\"azureml-widgets\\\": \\\"1.37.0\\\", \\\"azureml-train\\\": \\\"1.37.0\\\", \\\"azureml-train-restclients-hyperdrive\\\": \\\"1.37.0\\\", \\\"azureml-train-core\\\": \\\"1.37.0\\\", \\\"azureml-train-automl\\\": \\\"1.37.0\\\", \\\"azureml-train-automl-runtime\\\": \\\"1.37.0\\\", \\\"azureml-train-automl-client\\\": \\\"1.37.0\\\", \\\"azureml-tensorboard\\\": \\\"1.37.0\\\", \\\"azureml-telemetry\\\": \\\"1.37.0\\\", \\\"azureml-sdk\\\": \\\"1.37.0\\\", \\\"azureml-samples\\\": \\\"0+unknown\\\", \\\"azureml-responsibleai\\\": \\\"1.37.0\\\", \\\"azureml-pipeline\\\": \\\"1.37.0\\\", \\\"azureml-pipeline-steps\\\": \\\"1.37.0\\\", \\\"azureml-pipeline-core\\\": \\\"1.37.0\\\", \\\"azureml-opendatasets\\\": \\\"1.37.0\\\", \\\"azureml-mlflow\\\": \\\"1.37.0\\\", \\\"azureml-interpret\\\": \\\"1.37.0\\\", \\\"azureml-inference-server-http\\\": \\\"0.4.2\\\", \\\"azureml-explain-model\\\": \\\"1.37.0\\\", \\\"azureml-defaults\\\": \\\"1.37.0\\\", \\\"azureml-dataset-runtime\\\": \\\"1.37.0\\\", \\\"azureml-dataprep\\\": \\\"2.25.0\\\", \\\"azureml-dataprep-rslex\\\": \\\"2.1.0\\\", \\\"azureml-dataprep-native\\\": \\\"38.0.0\\\", \\\"azureml-datadrift\\\": \\\"1.37.0\\\", \\\"azureml-core\\\": \\\"1.37.0\\\", \\\"azureml-contrib-services\\\": \\\"1.37.0\\\", \\\"azureml-contrib-server\\\": \\\"1.37.0\\\", \\\"azureml-contrib-reinforcementlearning\\\": \\\"1.37.0\\\", \\\"azureml-contrib-pipeline-steps\\\": \\\"1.37.0\\\", \\\"azureml-contrib-notebook\\\": \\\"1.37.0\\\", \\\"azureml-contrib-fairness\\\": \\\"1.37.0\\\", \\\"azureml-contrib-dataset\\\": \\\"1.37.0\\\", \\\"azureml-contrib-automl-pipeline-steps\\\": \\\"1.37.0\\\", \\\"azureml-cli-common\\\": \\\"1.37.0\\\", \\\"azureml-automl-runtime\\\": \\\"1.37.0\\\", \\\"azureml-automl-dnn-nlp\\\": \\\"1.37.0\\\", \\\"azureml-automl-core\\\": \\\"1.37.0\\\", \\\"azureml-accel-models\\\": \\\"1.37.0\\\"}\", \"_aml_system_scenario_identification\": \"Remote.Parent\", \"ClientType\": \"SDK\", \"environment_cpu_name\": \"AzureML-AutoML\", \"environment_cpu_label\": \"py36\", \"environment_gpu_name\": \"AzureML-AutoML-GPU\", \"environment_gpu_label\": \"py36\", \"root_attribution\": \"automl\", \"attribution\": \"AutoML\", \"Orchestrator\": \"AutoML\", \"CancelUri\": \"https://southcentralus.api.azureml.ms/jasmine/v1.0/subscriptions/f5091c60-1c3c-430f-8d81-d802f6bf2414/resourceGroups/aml-quickstarts-183865/providers/Microsoft.MachineLearningServices/workspaces/quick-starts-ws-183865/experimentids/bf40a467-3761-4f32-9182-ac74b9ebf7b0/cancel/AutoML_1120354f-4b6b-49a4-9fa1-7b0ef45c1f0d\", \"ClientSdkVersion\": \"1.38.0\", \"snapshotId\": \"00000000-0000-0000-0000-000000000000\", \"SetupRunId\": \"AutoML_1120354f-4b6b-49a4-9fa1-7b0ef45c1f0d_setup\", \"SetupRunContainerId\": \"dcid.AutoML_1120354f-4b6b-49a4-9fa1-7b0ef45c1f0d_setup\", \"FeaturizationRunJsonPath\": \"featurizer_container.json\", \"FeaturizationRunId\": \"AutoML_1120354f-4b6b-49a4-9fa1-7b0ef45c1f0d_featurize\", \"ProblemInfoJsonString\": \"{\\\"dataset_num_categorical\\\": 0, \\\"is_sparse\\\": true, \\\"subsampling\\\": false, \\\"has_extra_col\\\": true, \\\"dataset_classes\\\": 4, \\\"dataset_features\\\": 116, \\\"dataset_samples\\\": 2000, \\\"single_frequency_class_detected\\\": false}\", \"ModelExplainRunId\": \"AutoML_1120354f-4b6b-49a4-9fa1-7b0ef45c1f0d_ModelExplain\"}, \"tags\": {\"model_explain_run\": \"best_run\", \"_aml_system_azureml.automlComponent\": \"AutoML\", \"pipeline_id\": \"\", \"score\": \"\", \"predicted_cost\": \"\", \"fit_time\": \"\", \"training_percent\": \"\", \"iteration\": \"\", \"run_preprocessor\": \"\", \"run_algorithm\": \"\", \"dynamic_whitelisting_iterations\": \"<24>;<30>;<34>;\", \"_aml_system_azureml.automl_early_exit_message\": \"No scores improved over last 20 iterations, so experiment stopped early. This early stopping behavior can be disabled by setting enable_early_stopping = False in AutoMLConfig for notebook/python SDK runs.\", \"automl_best_child_run_id\": \"AutoML_1120354f-4b6b-49a4-9fa1-7b0ef45c1f0d_38\", \"model_explain_best_run_child_id\": \"AutoML_1120354f-4b6b-49a4-9fa1-7b0ef45c1f0d_38\"}, \"end_time_utc\": \"2022-02-11T15:18:37.656877Z\", \"status\": \"Completed\", \"log_files\": {}, \"log_groups\": [], \"run_duration\": \"0:13:29\", \"run_number\": \"1644591907\", \"run_queued_details\": {\"status\": \"Completed\", \"details\": null}}, \"child_runs\": [{\"run_id\": \"AutoML_1120354f-4b6b-49a4-9fa1-7b0ef45c1f0d_setup\", \"run_number\": 1644591942, \"metric\": null, \"status\": \"Completed\", \"run_type\": \"azureml.scriptrun\", \"training_percent\": null, \"start_time\": \"2022-02-11T15:05:50.744783Z\", \"end_time\": \"2022-02-11T15:08:23.809174Z\", \"created_time\": \"2022-02-11T15:05:42.826834Z\", \"created_time_dt\": \"2022-02-11T15:05:42.826834Z\", \"duration\": \"0:02:40\", \"iteration\": null, \"goal\": null, \"run_name\": \"Completed\", \"run_properties\": null}, {\"run_id\": \"AutoML_1120354f-4b6b-49a4-9fa1-7b0ef45c1f0d_featurize\", \"run_number\": 1644592104, \"metric\": null, \"status\": \"Completed\", \"run_type\": \"automl.featurization\", \"training_percent\": null, \"start_time\": \"2022-02-11T15:08:24.696447Z\", \"end_time\": \"2022-02-11T15:10:18.856025Z\", \"created_time\": \"2022-02-11T15:08:24.290348Z\", \"created_time_dt\": \"2022-02-11T15:08:24.290348Z\", \"duration\": \"0:01:54\", \"iteration\": null, \"goal\": null, \"run_name\": \"Completed\", \"run_properties\": null}, {\"run_id\": \"AutoML_1120354f-4b6b-49a4-9fa1-7b0ef45c1f0d_0\", \"run_number\": 1644592220, \"metric\": null, \"status\": \"Completed\", \"run_type\": null, \"training_percent\": \"100\", \"start_time\": \"2022-02-11T15:10:51.514142Z\", \"end_time\": \"2022-02-11T15:11:01.904378Z\", \"created_time\": \"2022-02-11T15:10:20.896026Z\", \"created_time_dt\": \"2022-02-11T15:10:20.896026Z\", \"duration\": \"0:00:41\", \"iteration\": \"0\", \"goal\": \"accuracy_max\", \"run_name\": \"MaxAbsScaler, LightGBM\", \"run_properties\": \"copy=True\", \"primary_metric\": 0.8984997, \"best_metric\": 0.8984997}, {\"run_id\": \"AutoML_1120354f-4b6b-49a4-9fa1-7b0ef45c1f0d_1\", \"run_number\": 1644592221, \"metric\": null, \"status\": \"Completed\", \"run_type\": null, \"training_percent\": \"100\", \"start_time\": \"2022-02-11T15:11:02.085948Z\", \"end_time\": \"2022-02-11T15:11:12.076075Z\", \"created_time\": \"2022-02-11T15:10:21.768468Z\", \"created_time_dt\": \"2022-02-11T15:10:21.768468Z\", \"duration\": \"0:00:50\", \"iteration\": \"1\", \"goal\": \"accuracy_max\", \"run_name\": \"MaxAbsScaler, XGBoostClassifier\", \"run_properties\": \"copy=True\", \"primary_metric\": 0.8989972, \"best_metric\": 0.8989972}, {\"run_id\": \"AutoML_1120354f-4b6b-49a4-9fa1-7b0ef45c1f0d_2\", \"run_number\": 1644592222, \"metric\": null, \"status\": \"Completed\", \"run_type\": null, \"training_percent\": \"100\", \"start_time\": \"2022-02-11T15:11:12.256954Z\", \"end_time\": \"2022-02-11T15:11:21.418111Z\", \"created_time\": \"2022-02-11T15:10:22.364094Z\", \"created_time_dt\": \"2022-02-11T15:10:22.364094Z\", \"duration\": \"0:00:59\", \"iteration\": \"2\", \"goal\": \"accuracy_max\", \"run_name\": \"MaxAbsScaler, ExtremeRandomTrees\", \"run_properties\": \"copy=True\", \"primary_metric\": 0.73850012, \"best_metric\": 0.8989972}, {\"run_id\": \"AutoML_1120354f-4b6b-49a4-9fa1-7b0ef45c1f0d_3\", \"run_number\": 1644592223, \"metric\": null, \"status\": \"Completed\", \"run_type\": null, \"training_percent\": \"100\", \"start_time\": \"2022-02-11T15:11:21.596739Z\", \"end_time\": \"2022-02-11T15:11:30.889054Z\", \"created_time\": \"2022-02-11T15:10:23.903348Z\", \"created_time_dt\": \"2022-02-11T15:10:23.903348Z\", \"duration\": \"0:01:06\", \"iteration\": \"3\", \"goal\": \"accuracy_max\", \"run_name\": \"SparseNormalizer, XGBoostClassifier\", \"run_properties\": \"copy=True, norm='l2'\", \"primary_metric\": 0.88800044, \"best_metric\": 0.8989972}, {\"run_id\": \"AutoML_1120354f-4b6b-49a4-9fa1-7b0ef45c1f0d_worker_0\", \"run_number\": 1644592224, \"metric\": null, \"status\": \"Completed\", \"run_type\": \"azureml.scriptrun\", \"training_percent\": null, \"start_time\": \"2022-02-11T15:10:38.005457Z\", \"end_time\": \"2022-02-11T15:11:48.970673Z\", \"created_time\": \"2022-02-11T15:10:24.623257Z\", \"created_time_dt\": \"2022-02-11T15:10:24.623257Z\", \"duration\": \"0:01:24\", \"iteration\": null, \"goal\": null, \"run_name\": \"Completed\", \"run_properties\": null}, {\"run_id\": \"AutoML_1120354f-4b6b-49a4-9fa1-7b0ef45c1f0d_5\", \"run_number\": 1644592225, \"metric\": null, \"status\": \"Completed\", \"run_type\": null, \"training_percent\": \"100\", \"start_time\": \"2022-02-11T15:10:59.696539Z\", \"end_time\": \"2022-02-11T15:11:12.936738Z\", \"created_time\": \"2022-02-11T15:10:25.804472Z\", \"created_time_dt\": \"2022-02-11T15:10:25.804472Z\", \"duration\": \"0:00:47\", \"iteration\": \"5\", \"goal\": \"accuracy_max\", \"run_name\": \"MaxAbsScaler, LightGBM\", \"run_properties\": \"copy=True\", \"primary_metric\": 0.83399892, \"best_metric\": 0.8989972}, {\"run_id\": \"AutoML_1120354f-4b6b-49a4-9fa1-7b0ef45c1f0d_6\", \"run_number\": 1644592226, \"metric\": null, \"status\": \"Completed\", \"run_type\": null, \"training_percent\": \"100\", \"start_time\": \"2022-02-11T15:11:13.208242Z\", \"end_time\": \"2022-02-11T15:11:21.692906Z\", \"created_time\": \"2022-02-11T15:10:26.411651Z\", \"created_time_dt\": \"2022-02-11T15:10:26.411651Z\", \"duration\": \"0:00:55\", \"iteration\": \"6\", \"goal\": \"accuracy_max\", \"run_name\": \"StandardScalerWrapper, XGBoostClassifier\", \"run_properties\": \"\\n    copy=True,\\n    with_mean=False,\\n    with_std=False\\n\", \"primary_metric\": 0.84749742, \"best_metric\": 0.8989972}, {\"run_id\": \"AutoML_1120354f-4b6b-49a4-9fa1-7b0ef45c1f0d_worker_1\", \"run_number\": 1644592227, \"metric\": null, \"status\": \"Completed\", \"run_type\": \"azureml.scriptrun\", \"training_percent\": null, \"start_time\": \"2022-02-11T15:10:37.717062Z\", \"end_time\": \"2022-02-11T15:11:53.408347Z\", \"created_time\": \"2022-02-11T15:10:27.303536Z\", \"created_time_dt\": \"2022-02-11T15:10:27.303536Z\", \"duration\": \"0:01:26\", \"iteration\": null, \"goal\": null, \"run_name\": \"Completed\", \"run_properties\": null}, {\"run_id\": \"AutoML_1120354f-4b6b-49a4-9fa1-7b0ef45c1f0d_9\", \"run_number\": 1644592228, \"metric\": null, \"status\": \"Completed\", \"run_type\": null, \"training_percent\": \"100\", \"start_time\": \"2022-02-11T15:10:59.198695Z\", \"end_time\": \"2022-02-11T15:11:08.076177Z\", \"created_time\": \"2022-02-11T15:10:28.101842Z\", \"created_time_dt\": \"2022-02-11T15:10:28.101842Z\", \"duration\": \"0:00:39\", \"iteration\": \"9\", \"goal\": \"accuracy_max\", \"run_name\": \"StandardScalerWrapper, XGBoostClassifier\", \"run_properties\": \"\\n    copy=True,\\n    with_mean=False,\\n    with_std=False\\n\", \"primary_metric\": 0.82049741, \"best_metric\": 0.8989972}, {\"run_id\": \"AutoML_1120354f-4b6b-49a4-9fa1-7b0ef45c1f0d_worker_2\", \"run_number\": 1644592229, \"metric\": null, \"status\": \"Completed\", \"run_type\": \"azureml.scriptrun\", \"training_percent\": null, \"start_time\": \"2022-02-11T15:10:37.114842Z\", \"end_time\": \"2022-02-11T15:11:45.061075Z\", \"created_time\": \"2022-02-11T15:10:29.842712Z\", \"created_time_dt\": \"2022-02-11T15:10:29.842712Z\", \"duration\": \"0:01:15\", \"iteration\": null, \"goal\": null, \"run_name\": \"Completed\", \"run_properties\": null}, {\"run_id\": \"AutoML_1120354f-4b6b-49a4-9fa1-7b0ef45c1f0d_13\", \"run_number\": 1644592230, \"metric\": null, \"status\": \"Completed\", \"run_type\": null, \"training_percent\": \"100\", \"start_time\": \"2022-02-11T15:10:59.459532Z\", \"end_time\": \"2022-02-11T15:11:08.892374Z\", \"created_time\": \"2022-02-11T15:10:30.474884Z\", \"created_time_dt\": \"2022-02-11T15:10:30.474884Z\", \"duration\": \"0:00:38\", \"iteration\": \"13\", \"goal\": \"accuracy_max\", \"run_name\": \"MaxAbsScaler, SGD\", \"run_properties\": \"copy=True\", \"primary_metric\": 0.68699659, \"best_metric\": 0.8989972}, {\"run_id\": \"AutoML_1120354f-4b6b-49a4-9fa1-7b0ef45c1f0d_14\", \"run_number\": 1644592231, \"metric\": null, \"status\": \"Completed\", \"run_type\": null, \"training_percent\": \"100\", \"start_time\": \"2022-02-11T15:11:09.06721Z\", \"end_time\": \"2022-02-11T15:11:17.492331Z\", \"created_time\": \"2022-02-11T15:10:31.964048Z\", \"created_time_dt\": \"2022-02-11T15:10:31.964048Z\", \"duration\": \"0:00:45\", \"iteration\": \"14\", \"goal\": \"accuracy_max\", \"run_name\": \"StandardScalerWrapper, XGBoostClassifier\", \"run_properties\": \"\\n    copy=True,\\n    with_mean=False,\\n    with_std=False\\n\", \"primary_metric\": 0.84699692, \"best_metric\": 0.8989972}, {\"run_id\": \"AutoML_1120354f-4b6b-49a4-9fa1-7b0ef45c1f0d_worker_3\", \"run_number\": 1644592232, \"metric\": null, \"status\": \"Completed\", \"run_type\": \"azureml.scriptrun\", \"training_percent\": null, \"start_time\": \"2022-02-11T15:10:37.229977Z\", \"end_time\": \"2022-02-11T15:11:55.642807Z\", \"created_time\": \"2022-02-11T15:10:32.844635Z\", \"created_time_dt\": \"2022-02-11T15:10:32.844635Z\", \"duration\": \"0:01:22\", \"iteration\": null, \"goal\": null, \"run_name\": \"Completed\", \"run_properties\": null}, {\"run_id\": \"AutoML_1120354f-4b6b-49a4-9fa1-7b0ef45c1f0d_16\", \"run_number\": 1644592233, \"metric\": null, \"status\": \"Completed\", \"run_type\": null, \"training_percent\": \"100\", \"start_time\": \"2022-02-11T15:12:00.411287Z\", \"end_time\": \"2022-02-11T15:12:09.19109Z\", \"created_time\": \"2022-02-11T15:10:33.039941Z\", \"created_time_dt\": \"2022-02-11T15:10:33.039941Z\", \"duration\": \"0:01:36\", \"iteration\": \"16\", \"goal\": \"accuracy_max\", \"run_name\": \"StandardScalerWrapper, LogisticRegression\", \"run_properties\": \"\\n    copy=True,\\n    with_mean=False,\\n    with_std=False\\n\", \"primary_metric\": 0.67749233, \"best_metric\": 0.8989972}, {\"run_id\": \"AutoML_1120354f-4b6b-49a4-9fa1-7b0ef45c1f0d_18\", \"run_number\": 1644592234, \"metric\": null, \"status\": \"Completed\", \"run_type\": null, \"training_percent\": \"100\", \"start_time\": \"2022-02-11T15:12:19.280073Z\", \"end_time\": \"2022-02-11T15:12:28.34213Z\", \"created_time\": \"2022-02-11T15:10:34.140373Z\", \"created_time_dt\": \"2022-02-11T15:10:34.140373Z\", \"duration\": \"0:01:54\", \"iteration\": \"18\", \"goal\": \"accuracy_max\", \"run_name\": \"StandardScalerWrapper, XGBoostClassifier\", \"run_properties\": \"\\n    copy=True,\\n    with_mean=False,\\n    with_std=False\\n\", \"primary_metric\": 0.87299593, \"best_metric\": 0.8989972}, {\"run_id\": \"AutoML_1120354f-4b6b-49a4-9fa1-7b0ef45c1f0d_worker_4\", \"run_number\": 1644592256, \"metric\": null, \"status\": \"Completed\", \"run_type\": \"azureml.scriptrun\", \"training_percent\": null, \"start_time\": \"2022-02-11T15:11:46.368311Z\", \"end_time\": \"2022-02-11T15:13:04.097828Z\", \"created_time\": \"2022-02-11T15:10:56.014119Z\", \"created_time_dt\": \"2022-02-11T15:10:56.014119Z\", \"duration\": \"0:02:08\", \"iteration\": null, \"goal\": null, \"run_name\": \"Completed\", \"run_properties\": null}, {\"run_id\": \"AutoML_1120354f-4b6b-49a4-9fa1-7b0ef45c1f0d_20\", \"run_number\": 1644592308, \"metric\": null, \"status\": \"Completed\", \"run_type\": \"azureml.scriptrun\", \"training_percent\": \"100\", \"start_time\": \"2022-02-11T15:11:56.903362Z\", \"end_time\": \"2022-02-11T15:12:58.412445Z\", \"created_time\": \"2022-02-11T15:11:48.927087Z\", \"created_time_dt\": \"2022-02-11T15:11:48.927087Z\", \"duration\": \"0:01:09\", \"iteration\": \"20\", \"goal\": \"accuracy_max\", \"run_name\": \"TruncatedSVDWrapper, RandomForest\", \"run_properties\": \"n_components=0.7026315789473684, random_state=None\", \"primary_metric\": 0.93349947, \"best_metric\": 0.93349947}, {\"run_id\": \"AutoML_1120354f-4b6b-49a4-9fa1-7b0ef45c1f0d_21\", \"run_number\": 1644592335, \"metric\": null, \"status\": \"Completed\", \"run_type\": \"azureml.scriptrun\", \"training_percent\": \"100\", \"start_time\": \"2022-02-11T15:12:21.462967Z\", \"end_time\": \"2022-02-11T15:13:01.604633Z\", \"created_time\": \"2022-02-11T15:12:15.841348Z\", \"created_time_dt\": \"2022-02-11T15:12:15.841348Z\", \"duration\": \"0:00:45\", \"iteration\": \"21\", \"goal\": \"accuracy_max\", \"run_name\": \"StandardScalerWrapper, XGBoostClassifier\", \"run_properties\": \"\\n    copy=True,\\n    with_mean=False,\\n    with_std=False\\n\", \"primary_metric\": 0.84400142, \"best_metric\": 0.93349947}, {\"run_id\": \"AutoML_1120354f-4b6b-49a4-9fa1-7b0ef45c1f0d_24\", \"run_number\": 1644592385, \"metric\": null, \"status\": \"Completed\", \"run_type\": \"azureml.scriptrun\", \"training_percent\": \"100\", \"start_time\": \"2022-02-11T15:13:10.853974Z\", \"end_time\": \"2022-02-11T15:14:26.395674Z\", \"created_time\": \"2022-02-11T15:13:05.842308Z\", \"created_time_dt\": \"2022-02-11T15:13:05.842308Z\", \"duration\": \"0:01:20\", \"iteration\": \"24\", \"goal\": \"accuracy_max\", \"run_name\": \"StandardScalerWrapper, RandomForest\", \"run_properties\": \"\\n    copy=True,\\n    with_mean=False,\\n    with_std=True\\n\", \"primary_metric\": 0.24749562, \"best_metric\": 0.93349947}, {\"run_id\": \"AutoML_1120354f-4b6b-49a4-9fa1-7b0ef45c1f0d_27\", \"run_number\": 1644592406, \"metric\": null, \"status\": \"Completed\", \"run_type\": \"azureml.scriptrun\", \"training_percent\": \"100\", \"start_time\": \"2022-02-11T15:13:33.273008Z\", \"end_time\": \"2022-02-11T15:14:40.952862Z\", \"created_time\": \"2022-02-11T15:13:26.791012Z\", \"created_time_dt\": \"2022-02-11T15:13:26.791012Z\", \"duration\": \"0:01:14\", \"iteration\": \"27\", \"goal\": \"accuracy_max\", \"run_name\": \"SparseNormalizer, XGBoostClassifier\", \"run_properties\": \"copy=True, norm='l1'\", \"primary_metric\": 0.87550819, \"best_metric\": 0.93349947}, {\"run_id\": \"AutoML_1120354f-4b6b-49a4-9fa1-7b0ef45c1f0d_28\", \"run_number\": 1644592435, \"metric\": null, \"status\": \"Completed\", \"run_type\": \"azureml.scriptrun\", \"training_percent\": \"100\", \"start_time\": \"2022-02-11T15:14:09.07645Z\", \"end_time\": \"2022-02-11T15:14:57.222691Z\", \"created_time\": \"2022-02-11T15:13:55.448203Z\", \"created_time_dt\": \"2022-02-11T15:13:55.448203Z\", \"duration\": \"0:01:01\", \"iteration\": \"28\", \"goal\": \"accuracy_max\", \"run_name\": \"SparseNormalizer, XGBoostClassifier\", \"run_properties\": \"copy=True, norm='l2'\", \"primary_metric\": 0.87199869, \"best_metric\": 0.93349947}, {\"run_id\": \"AutoML_1120354f-4b6b-49a4-9fa1-7b0ef45c1f0d_29\", \"run_number\": 1644592471, \"metric\": null, \"status\": \"Completed\", \"run_type\": \"azureml.scriptrun\", \"training_percent\": \"100\", \"start_time\": \"2022-02-11T15:14:35.515923Z\", \"end_time\": \"2022-02-11T15:15:35.744519Z\", \"created_time\": \"2022-02-11T15:14:31.060193Z\", \"created_time_dt\": \"2022-02-11T15:14:31.060193Z\", \"duration\": \"0:01:04\", \"iteration\": \"29\", \"goal\": \"accuracy_max\", \"run_name\": \"SparseNormalizer, XGBoostClassifier\", \"run_properties\": \"copy=True, norm='l2'\", \"primary_metric\": 0.88300219, \"best_metric\": 0.93349947}, {\"run_id\": \"AutoML_1120354f-4b6b-49a4-9fa1-7b0ef45c1f0d_30\", \"run_number\": 1644592475, \"metric\": null, \"status\": \"Completed\", \"run_type\": \"azureml.scriptrun\", \"training_percent\": \"100\", \"start_time\": \"2022-02-11T15:14:44.421862Z\", \"end_time\": \"2022-02-11T15:15:33.738159Z\", \"created_time\": \"2022-02-11T15:14:35.173727Z\", \"created_time_dt\": \"2022-02-11T15:14:35.173727Z\", \"duration\": \"0:00:58\", \"iteration\": \"30\", \"goal\": \"accuracy_max\", \"run_name\": \"MaxAbsScaler, RandomForest\", \"run_properties\": \"copy=True\", \"primary_metric\": 0.61950931, \"best_metric\": 0.93349947}, {\"run_id\": \"AutoML_1120354f-4b6b-49a4-9fa1-7b0ef45c1f0d_33\", \"run_number\": 1644592499, \"metric\": null, \"status\": \"Completed\", \"run_type\": \"azureml.scriptrun\", \"training_percent\": \"100\", \"start_time\": \"2022-02-11T15:15:03.604084Z\", \"end_time\": \"2022-02-11T15:15:52.654503Z\", \"created_time\": \"2022-02-11T15:14:59.223207Z\", \"created_time_dt\": \"2022-02-11T15:14:59.223207Z\", \"duration\": \"0:00:53\", \"iteration\": \"33\", \"goal\": \"accuracy_max\", \"run_name\": \"MaxAbsScaler, LightGBM\", \"run_properties\": \"copy=True\", \"primary_metric\": 0.8079954, \"best_metric\": 0.93349947}, {\"run_id\": \"AutoML_1120354f-4b6b-49a4-9fa1-7b0ef45c1f0d_35\", \"run_number\": 1644592558, \"metric\": null, \"status\": \"Completed\", \"run_type\": \"azureml.scriptrun\", \"training_percent\": \"100\", \"start_time\": \"2022-02-11T15:16:06.177383Z\", \"end_time\": \"2022-02-11T15:16:47.067635Z\", \"created_time\": \"2022-02-11T15:15:58.580358Z\", \"created_time_dt\": \"2022-02-11T15:15:58.580358Z\", \"duration\": \"0:00:48\", \"iteration\": \"35\", \"goal\": \"accuracy_max\", \"run_name\": \"StandardScalerWrapper, LightGBM\", \"run_properties\": \"\\n    copy=True,\\n    with_mean=False,\\n    with_std=True\\n\", \"primary_metric\": 0.85049367, \"best_metric\": 0.93349947}, {\"run_id\": \"AutoML_1120354f-4b6b-49a4-9fa1-7b0ef45c1f0d_36\", \"run_number\": 1644592559, \"metric\": null, \"status\": \"Canceled\", \"run_type\": \"azureml.scriptrun\", \"training_percent\": \"100\", \"start_time\": \"2022-02-11T15:16:31.888852Z\", \"end_time\": \"2022-02-11T15:16:51.330294Z\", \"created_time\": \"2022-02-11T15:15:59.35593Z\", \"created_time_dt\": \"2022-02-11T15:15:59.35593Z\", \"duration\": \"0:00:51\", \"iteration\": \"36\", \"goal\": \"accuracy_max\", \"run_name\": \"StandardScalerWrapper, LightGBM\", \"run_properties\": \"\\n    copy=True,\\n    with_mean=False,\\n    with_std=True\\n\", \"primary_metric\": 0.71200061, \"best_metric\": 0.93349947}, {\"run_id\": \"AutoML_1120354f-4b6b-49a4-9fa1-7b0ef45c1f0d_38\", \"run_number\": 1644592625, \"metric\": null, \"status\": \"Completed\", \"run_type\": \"azureml.scriptrun\", \"training_percent\": \"100\", \"start_time\": \"2022-02-11T15:17:09.565783Z\", \"end_time\": \"2022-02-11T15:18:23.618466Z\", \"created_time\": \"2022-02-11T15:17:05.494167Z\", \"created_time_dt\": \"2022-02-11T15:17:05.494167Z\", \"duration\": \"0:01:18\", \"iteration\": \"38\", \"goal\": \"accuracy_max\", \"run_name\": \"VotingEnsemble\", \"run_properties\": \"\\n    estimators=[('20', Pipeline(\\n        memory=None,\\n        steps=[('truncatedsvdwrapper', TruncatedSVDWrapper(\\n            n_components=0.7026315789473684,\\n            random_state=None\\n        \", \"primary_metric\": 0.94549722, \"best_metric\": 0.94549722}], \"children_metrics\": {\"categories\": [0], \"series\": {\"norm_macro_recall\": [{\"categories\": [\"0\", \"1\", \"2\", \"3\", \"5\", \"6\", \"9\", \"13\", \"14\", \"16\", \"18\", \"20\", \"21\", \"24\", \"27\", \"28\", \"29\", \"30\", \"33\", \"35\", \"36\", \"38\"], \"mode\": \"markers\", \"name\": \"norm_macro_recall\", \"stepped\": false, \"type\": \"scatter\", \"data\": [0.8646512417533497, 0.865576550757503, 0.652423045258267, 0.8506476862372968, 0.7792885524147368, 0.7976390452864118, 0.7618538989362703, 0.5840632198467378, 0.7972552284259291, 0.5717318611242509, 0.8307357287058594, 0.9118439804588548, 0.7925477446540586, 0.0, 0.8361948847924979, 0.829420784786037, 0.8442222394215508, 0.49616051899753866, 0.7451406875058061, 0.8017482443548358, 0.6235074801974618, 0.927613165739266]}, {\"categories\": [\"0\", \"1\", \"2\", \"3\", \"5\", \"6\", \"9\", \"13\", \"14\", \"16\", \"18\", \"20\", \"21\", \"24\", \"27\", \"28\", \"29\", \"30\", \"33\", \"35\", \"36\", \"38\"], \"mode\": \"lines\", \"name\": \"norm_macro_recall_max\", \"stepped\": true, \"type\": \"scatter\", \"data\": [0.8646512417533497, 0.865576550757503, 0.865576550757503, 0.865576550757503, 0.865576550757503, 0.865576550757503, 0.865576550757503, 0.865576550757503, 0.865576550757503, 0.865576550757503, 0.865576550757503, 0.9118439804588548, 0.9118439804588548, 0.9118439804588548, 0.9118439804588548, 0.9118439804588548, 0.9118439804588548, 0.9118439804588548, 0.9118439804588548, 0.9118439804588548, 0.9118439804588548, 0.927613165739266]}], \"average_precision_score_macro\": [{\"categories\": [\"0\", \"1\", \"2\", \"3\", \"5\", \"6\", \"9\", \"13\", \"14\", \"16\", \"18\", \"20\", \"21\", \"24\", \"27\", \"28\", \"29\", \"30\", \"33\", \"35\", \"36\", \"38\"], \"mode\": \"markers\", \"name\": \"average_precision_score_macro\", \"stepped\": false, \"type\": \"scatter\", \"data\": [0.9580385294285593, 0.9509716089840866, 0.7633181787187769, 0.9486409064015713, 0.8772266787474808, 0.8918296111288796, 0.8675199136446138, 0.7121961891337181, 0.9052508380280225, 0.678676798207355, 0.9280310307877863, 0.9544411441641788, 0.8918392484451277, 0.25, 0.9440087417984472, 0.9423275799856293, 0.9490918561079628, 0.6688995885987786, 0.8669281145084163, 0.9081234431502855, 0.783159453066835, 0.9865760810926795]}, {\"categories\": [\"0\", \"1\", \"2\", \"3\", \"5\", \"6\", \"9\", \"13\", \"14\", \"16\", \"18\", \"20\", \"21\", \"24\", \"27\", \"28\", \"29\", \"30\", \"33\", \"35\", \"36\", \"38\"], \"mode\": \"lines\", \"name\": \"average_precision_score_macro_max\", \"stepped\": true, \"type\": \"scatter\", \"data\": [0.9580385294285593, 0.9580385294285593, 0.9580385294285593, 0.9580385294285593, 0.9580385294285593, 0.9580385294285593, 0.9580385294285593, 0.9580385294285593, 0.9580385294285593, 0.9580385294285593, 0.9580385294285593, 0.9580385294285593, 0.9580385294285593, 0.9580385294285593, 0.9580385294285593, 0.9580385294285593, 0.9580385294285593, 0.9580385294285593, 0.9580385294285593, 0.9580385294285593, 0.9580385294285593, 0.9865760810926795]}], \"recall_score_weighted\": [{\"categories\": [\"0\", \"1\", \"2\", \"3\", \"5\", \"6\", \"9\", \"13\", \"14\", \"16\", \"18\", \"20\", \"21\", \"24\", \"27\", \"28\", \"29\", \"30\", \"33\", \"35\", \"36\", \"38\"], \"mode\": \"markers\", \"name\": \"recall_score_weighted\", \"stepped\": false, \"type\": \"scatter\", \"data\": [0.8984996990993993, 0.898997198097648, 0.7385001193097146, 0.8880004442223332, 0.8339989164576872, 0.8474974224599413, 0.820497408953181, 0.686996591794193, 0.8469969219594407, 0.6774923349136243, 0.8729959344651999, 0.9334994664829748, 0.8440014227120672, 0.24749562155859006, 0.8755081918500208, 0.8719986853420137, 0.8830021925973951, 0.6195093144118632, 0.8079954016985501, 0.8504936720828775, 0.7120006063034549, 0.9454972213592904]}, {\"categories\": [\"0\", \"1\", \"2\", \"3\", \"5\", \"6\", \"9\", \"13\", \"14\", \"16\", \"18\", \"20\", \"21\", \"24\", \"27\", \"28\", \"29\", \"30\", \"33\", \"35\", \"36\", \"38\"], \"mode\": \"lines\", \"name\": \"recall_score_weighted_max\", \"stepped\": true, \"type\": \"scatter\", \"data\": [0.8984996990993993, 0.898997198097648, 0.898997198097648, 0.898997198097648, 0.898997198097648, 0.898997198097648, 0.898997198097648, 0.898997198097648, 0.898997198097648, 0.898997198097648, 0.898997198097648, 0.9334994664829748, 0.9334994664829748, 0.9334994664829748, 0.9334994664829748, 0.9334994664829748, 0.9334994664829748, 0.9334994664829748, 0.9334994664829748, 0.9334994664829748, 0.9334994664829748, 0.9454972213592904]}], \"balanced_accuracy\": [{\"categories\": [\"0\", \"1\", \"2\", \"3\", \"5\", \"6\", \"9\", \"13\", \"14\", \"16\", \"18\", \"20\", \"21\", \"24\", \"27\", \"28\", \"29\", \"30\", \"33\", \"35\", \"36\", \"38\"], \"mode\": \"markers\", \"name\": \"balanced_accuracy\", \"stepped\": false, \"type\": \"scatter\", \"data\": [0.8984884313150122, 0.8991824130681273, 0.7393172839437002, 0.8879857646779726, 0.8344664143110526, 0.8482292839648089, 0.8213904242022028, 0.6880474148850534, 0.8479414213194468, 0.6787988958431882, 0.8730517965293947, 0.933882985344141, 0.8444108084905441, 0.25, 0.8771461635943735, 0.8720655885895278, 0.883166679566163, 0.622120389248154, 0.8088555156293545, 0.8513111832661268, 0.7176306101480963, 0.9457098743044495]}, {\"categories\": [\"0\", \"1\", \"2\", \"3\", \"5\", \"6\", \"9\", \"13\", \"14\", \"16\", \"18\", \"20\", \"21\", \"24\", \"27\", \"28\", \"29\", \"30\", \"33\", \"35\", \"36\", \"38\"], \"mode\": \"lines\", \"name\": \"balanced_accuracy_max\", \"stepped\": true, \"type\": \"scatter\", \"data\": [0.8984884313150122, 0.8991824130681273, 0.8991824130681273, 0.8991824130681273, 0.8991824130681273, 0.8991824130681273, 0.8991824130681273, 0.8991824130681273, 0.8991824130681273, 0.8991824130681273, 0.8991824130681273, 0.933882985344141, 0.933882985344141, 0.933882985344141, 0.933882985344141, 0.933882985344141, 0.933882985344141, 0.933882985344141, 0.933882985344141, 0.933882985344141, 0.933882985344141, 0.9457098743044495]}], \"f1_score_micro\": [{\"categories\": [\"0\", \"1\", \"2\", \"3\", \"5\", \"6\", \"9\", \"13\", \"14\", \"16\", \"18\", \"20\", \"21\", \"24\", \"27\", \"28\", \"29\", \"30\", \"33\", \"35\", \"36\", \"38\"], \"mode\": \"markers\", \"name\": \"f1_score_micro\", \"stepped\": false, \"type\": \"scatter\", \"data\": [0.8984996990993993, 0.898997198097648, 0.7385001193097146, 0.8880004442223332, 0.8339989164576872, 0.8474974224599411, 0.8204974089531811, 0.686996591794193, 0.8469969219594408, 0.6774923349136244, 0.8729959344651999, 0.9334994664829748, 0.8440014227120672, 0.24749562155859006, 0.8755081918500208, 0.8719986853420137, 0.8830021925973951, 0.6195093144118632, 0.8079954016985501, 0.8504936720828775, 0.7120006063034549, 0.9454972213592904]}, {\"categories\": [\"0\", \"1\", \"2\", \"3\", \"5\", \"6\", \"9\", \"13\", \"14\", \"16\", \"18\", \"20\", \"21\", \"24\", \"27\", \"28\", \"29\", \"30\", \"33\", \"35\", \"36\", \"38\"], \"mode\": \"lines\", \"name\": \"f1_score_micro_max\", \"stepped\": true, \"type\": \"scatter\", \"data\": [0.8984996990993993, 0.898997198097648, 0.898997198097648, 0.898997198097648, 0.898997198097648, 0.898997198097648, 0.898997198097648, 0.898997198097648, 0.898997198097648, 0.898997198097648, 0.898997198097648, 0.9334994664829748, 0.9334994664829748, 0.9334994664829748, 0.9334994664829748, 0.9334994664829748, 0.9334994664829748, 0.9334994664829748, 0.9334994664829748, 0.9334994664829748, 0.9334994664829748, 0.9454972213592904]}], \"AUC_macro\": [{\"categories\": [\"0\", \"1\", \"2\", \"3\", \"5\", \"6\", \"9\", \"13\", \"14\", \"16\", \"18\", \"20\", \"21\", \"24\", \"27\", \"28\", \"29\", \"30\", \"33\", \"35\", \"36\", \"38\"], \"mode\": \"markers\", \"name\": \"AUC_macro\", \"stepped\": false, \"type\": \"scatter\", \"data\": [0.986115889611253, 0.9847573357277847, 0.9071503371109163, 0.9803625802635643, 0.9577336884568197, 0.9608339426137823, 0.9540366534002328, 0.8726576987490251, 0.9683068707740333, 0.8731987152666685, 0.9760386793391601, 0.9846024258297105, 0.9634366395745175, 0.5, 0.9798992963398135, 0.9778767980702106, 0.9811202138955376, 0.8633735591302054, 0.956942834852827, 0.9691841746337703, 0.9088478397596312, 0.9952728802699097]}, {\"categories\": [\"0\", \"1\", \"2\", \"3\", \"5\", \"6\", \"9\", \"13\", \"14\", \"16\", \"18\", \"20\", \"21\", \"24\", \"27\", \"28\", \"29\", \"30\", \"33\", \"35\", \"36\", \"38\"], \"mode\": \"lines\", \"name\": \"AUC_macro_max\", \"stepped\": true, \"type\": \"scatter\", \"data\": [0.986115889611253, 0.986115889611253, 0.986115889611253, 0.986115889611253, 0.986115889611253, 0.986115889611253, 0.986115889611253, 0.986115889611253, 0.986115889611253, 0.986115889611253, 0.986115889611253, 0.986115889611253, 0.986115889611253, 0.986115889611253, 0.986115889611253, 0.986115889611253, 0.986115889611253, 0.986115889611253, 0.986115889611253, 0.986115889611253, 0.986115889611253, 0.9952728802699097]}], \"recall_score_macro\": [{\"categories\": [\"0\", \"1\", \"2\", \"3\", \"5\", \"6\", \"9\", \"13\", \"14\", \"16\", \"18\", \"20\", \"21\", \"24\", \"27\", \"28\", \"29\", \"30\", \"33\", \"35\", \"36\", \"38\"], \"mode\": \"markers\", \"name\": \"recall_score_macro\", \"stepped\": false, \"type\": \"scatter\", \"data\": [0.8984884313150122, 0.8991824130681273, 0.7393172839437002, 0.8879857646779726, 0.8344664143110526, 0.8482292839648089, 0.8213904242022028, 0.6880474148850534, 0.8479414213194468, 0.6787988958431882, 0.8730517965293947, 0.933882985344141, 0.8444108084905441, 0.25, 0.8771461635943735, 0.8720655885895278, 0.883166679566163, 0.622120389248154, 0.8088555156293545, 0.8513111832661268, 0.7176306101480963, 0.9457098743044495]}, {\"categories\": [\"0\", \"1\", \"2\", \"3\", \"5\", \"6\", \"9\", \"13\", \"14\", \"16\", \"18\", \"20\", \"21\", \"24\", \"27\", \"28\", \"29\", \"30\", \"33\", \"35\", \"36\", \"38\"], \"mode\": \"lines\", \"name\": \"recall_score_macro_max\", \"stepped\": true, \"type\": \"scatter\", \"data\": [0.8984884313150122, 0.8991824130681273, 0.8991824130681273, 0.8991824130681273, 0.8991824130681273, 0.8991824130681273, 0.8991824130681273, 0.8991824130681273, 0.8991824130681273, 0.8991824130681273, 0.8991824130681273, 0.933882985344141, 0.933882985344141, 0.933882985344141, 0.933882985344141, 0.933882985344141, 0.933882985344141, 0.933882985344141, 0.933882985344141, 0.933882985344141, 0.933882985344141, 0.9457098743044495]}], \"average_precision_score_micro\": [{\"categories\": [\"0\", \"1\", \"2\", \"3\", \"5\", \"6\", \"9\", \"13\", \"14\", \"16\", \"18\", \"20\", \"21\", \"24\", \"27\", \"28\", \"29\", \"30\", \"33\", \"35\", \"36\", \"38\"], \"mode\": \"markers\", \"name\": \"average_precision_score_micro\", \"stepped\": false, \"type\": \"scatter\", \"data\": [0.9657281290625078, 0.962209805583691, 0.8199136581617323, 0.951946826043712, 0.8860916230790599, 0.9042297900438587, 0.89251053903392, 0.7190008437931139, 0.9187968772800575, 0.6947116489816407, 0.939034338117326, 0.9585293310483324, 0.9107298598117048, 0.24657836210971795, 0.9498066631339137, 0.943850197544518, 0.9517917009346721, 0.6721263790114756, 0.9008094908565375, 0.9247789926302658, 0.7796433584888146, 0.9872404027040314]}, {\"categories\": [\"0\", \"1\", \"2\", \"3\", \"5\", \"6\", \"9\", \"13\", \"14\", \"16\", \"18\", \"20\", \"21\", \"24\", \"27\", \"28\", \"29\", \"30\", \"33\", \"35\", \"36\", \"38\"], \"mode\": \"lines\", \"name\": \"average_precision_score_micro_max\", \"stepped\": true, \"type\": \"scatter\", \"data\": [0.9657281290625078, 0.9657281290625078, 0.9657281290625078, 0.9657281290625078, 0.9657281290625078, 0.9657281290625078, 0.9657281290625078, 0.9657281290625078, 0.9657281290625078, 0.9657281290625078, 0.9657281290625078, 0.9657281290625078, 0.9657281290625078, 0.9657281290625078, 0.9657281290625078, 0.9657281290625078, 0.9657281290625078, 0.9657281290625078, 0.9657281290625078, 0.9657281290625078, 0.9657281290625078, 0.9872404027040314]}], \"recall_score_micro\": [{\"categories\": [\"0\", \"1\", \"2\", \"3\", \"5\", \"6\", \"9\", \"13\", \"14\", \"16\", \"18\", \"20\", \"21\", \"24\", \"27\", \"28\", \"29\", \"30\", \"33\", \"35\", \"36\", \"38\"], \"mode\": \"markers\", \"name\": \"recall_score_micro\", \"stepped\": false, \"type\": \"scatter\", \"data\": [0.8984996990993993, 0.898997198097648, 0.7385001193097146, 0.8880004442223332, 0.8339989164576872, 0.8474974224599413, 0.820497408953181, 0.686996591794193, 0.8469969219594407, 0.6774923349136243, 0.8729959344651999, 0.9334994664829748, 0.8440014227120672, 0.24749562155859006, 0.8755081918500208, 0.8719986853420137, 0.8830021925973951, 0.6195093144118632, 0.8079954016985501, 0.8504936720828775, 0.7120006063034549, 0.9454972213592904]}, {\"categories\": [\"0\", \"1\", \"2\", \"3\", \"5\", \"6\", \"9\", \"13\", \"14\", \"16\", \"18\", \"20\", \"21\", \"24\", \"27\", \"28\", \"29\", \"30\", \"33\", \"35\", \"36\", \"38\"], \"mode\": \"lines\", \"name\": \"recall_score_micro_max\", \"stepped\": true, \"type\": \"scatter\", \"data\": [0.8984996990993993, 0.898997198097648, 0.898997198097648, 0.898997198097648, 0.898997198097648, 0.898997198097648, 0.898997198097648, 0.898997198097648, 0.898997198097648, 0.898997198097648, 0.898997198097648, 0.9334994664829748, 0.9334994664829748, 0.9334994664829748, 0.9334994664829748, 0.9334994664829748, 0.9334994664829748, 0.9334994664829748, 0.9334994664829748, 0.9334994664829748, 0.9334994664829748, 0.9454972213592904]}], \"precision_score_micro\": [{\"categories\": [\"0\", \"1\", \"2\", \"3\", \"5\", \"6\", \"9\", \"13\", \"14\", \"16\", \"18\", \"20\", \"21\", \"24\", \"27\", \"28\", \"29\", \"30\", \"33\", \"35\", \"36\", \"38\"], \"mode\": \"markers\", \"name\": \"precision_score_micro\", \"stepped\": false, \"type\": \"scatter\", \"data\": [0.8984996990993993, 0.898997198097648, 0.7385001193097146, 0.8880004442223332, 0.8339989164576872, 0.8474974224599413, 0.820497408953181, 0.686996591794193, 0.8469969219594407, 0.6774923349136243, 0.8729959344651999, 0.9334994664829748, 0.8440014227120672, 0.24749562155859006, 0.8755081918500208, 0.8719986853420137, 0.8830021925973951, 0.6195093144118632, 0.8079954016985501, 0.8504936720828775, 0.7120006063034549, 0.9454972213592904]}, {\"categories\": [\"0\", \"1\", \"2\", \"3\", \"5\", \"6\", \"9\", \"13\", \"14\", \"16\", \"18\", \"20\", \"21\", \"24\", \"27\", \"28\", \"29\", \"30\", \"33\", \"35\", \"36\", \"38\"], \"mode\": \"lines\", \"name\": \"precision_score_micro_max\", \"stepped\": true, \"type\": \"scatter\", \"data\": [0.8984996990993993, 0.898997198097648, 0.898997198097648, 0.898997198097648, 0.898997198097648, 0.898997198097648, 0.898997198097648, 0.898997198097648, 0.898997198097648, 0.898997198097648, 0.898997198097648, 0.9334994664829748, 0.9334994664829748, 0.9334994664829748, 0.9334994664829748, 0.9334994664829748, 0.9334994664829748, 0.9334994664829748, 0.9334994664829748, 0.9334994664829748, 0.9334994664829748, 0.9454972213592904]}], \"matthews_correlation\": [{\"categories\": [\"0\", \"1\", \"2\", \"3\", \"5\", \"6\", \"9\", \"13\", \"14\", \"16\", \"18\", \"20\", \"21\", \"24\", \"27\", \"28\", \"29\", \"30\", \"33\", \"35\", \"36\", \"38\"], \"mode\": \"markers\", \"name\": \"matthews_correlation\", \"stepped\": false, \"type\": \"scatter\", \"data\": [0.8646307950379836, 0.8654315476944756, 0.6560655625233545, 0.8507058210000839, 0.7795687511902063, 0.7968542125338475, 0.7607560593107398, 0.5872825083072274, 0.7962905950341254, 0.5743978673422718, 0.8307956867691694, 0.9116155531785844, 0.7924483799679916, 0.0, 0.8347926005271159, 0.8294180815325883, 0.8440243805876011, 0.5169291669513022, 0.7448101984626492, 0.800843139431091, 0.6283312717973565, 0.927421302139893]}, {\"categories\": [\"0\", \"1\", \"2\", \"3\", \"5\", \"6\", \"9\", \"13\", \"14\", \"16\", \"18\", \"20\", \"21\", \"24\", \"27\", \"28\", \"29\", \"30\", \"33\", \"35\", \"36\", \"38\"], \"mode\": \"lines\", \"name\": \"matthews_correlation_max\", \"stepped\": true, \"type\": \"scatter\", \"data\": [0.8646307950379836, 0.8654315476944756, 0.8654315476944756, 0.8654315476944756, 0.8654315476944756, 0.8654315476944756, 0.8654315476944756, 0.8654315476944756, 0.8654315476944756, 0.8654315476944756, 0.8654315476944756, 0.9116155531785844, 0.9116155531785844, 0.9116155531785844, 0.9116155531785844, 0.9116155531785844, 0.9116155531785844, 0.9116155531785844, 0.9116155531785844, 0.9116155531785844, 0.9116155531785844, 0.927421302139893]}], \"f1_score_weighted\": [{\"categories\": [\"0\", \"1\", \"2\", \"3\", \"5\", \"6\", \"9\", \"13\", \"14\", \"16\", \"18\", \"20\", \"21\", \"24\", \"27\", \"28\", \"29\", \"30\", \"33\", \"35\", \"36\", \"38\"], \"mode\": \"markers\", \"name\": \"f1_score_weighted\", \"stepped\": false, \"type\": \"scatter\", \"data\": [0.8982827011514986, 0.8988789731483376, 0.7255479604048012, 0.8875115224616836, 0.8334096821972533, 0.8473003720859422, 0.8198480146256264, 0.6716489297501708, 0.8472369381073638, 0.6666184430792501, 0.8733846952801055, 0.9333826516309468, 0.8448697875047294, 0.09839570190625431, 0.8758873573162685, 0.8714258346102602, 0.8824478598832242, 0.5728187589710214, 0.8066490280548188, 0.8506928977475491, 0.701113721260599, 0.9453918878805553]}, {\"categories\": [\"0\", \"1\", \"2\", \"3\", \"5\", \"6\", \"9\", \"13\", \"14\", \"16\", \"18\", \"20\", \"21\", \"24\", \"27\", \"28\", \"29\", \"30\", \"33\", \"35\", \"36\", \"38\"], \"mode\": \"lines\", \"name\": \"f1_score_weighted_max\", \"stepped\": true, \"type\": \"scatter\", \"data\": [0.8982827011514986, 0.8988789731483376, 0.8988789731483376, 0.8988789731483376, 0.8988789731483376, 0.8988789731483376, 0.8988789731483376, 0.8988789731483376, 0.8988789731483376, 0.8988789731483376, 0.8988789731483376, 0.9333826516309468, 0.9333826516309468, 0.9333826516309468, 0.9333826516309468, 0.9333826516309468, 0.9333826516309468, 0.9333826516309468, 0.9333826516309468, 0.9333826516309468, 0.9333826516309468, 0.9453918878805553]}], \"f1_score_macro\": [{\"categories\": [\"0\", \"1\", \"2\", \"3\", \"5\", \"6\", \"9\", \"13\", \"14\", \"16\", \"18\", \"20\", \"21\", \"24\", \"27\", \"28\", \"29\", \"30\", \"33\", \"35\", \"36\", \"38\"], \"mode\": \"markers\", \"name\": \"f1_score_macro\", \"stepped\": false, \"type\": \"scatter\", \"data\": [0.8981506112612494, 0.8988158809391092, 0.725896572315686, 0.8873639321073195, 0.8332393197228075, 0.847233472210744, 0.8201524369852317, 0.6717145145343327, 0.8473574702229952, 0.6662351964441534, 0.8730902208804241, 0.9333725567216621, 0.8449017905664191, 0.09914888530273146, 0.8762149240172362, 0.8710688708303995, 0.8822658405407914, 0.5728903872885881, 0.8066596091424504, 0.8508142494664197, 0.7023199634649965, 0.9453889672186815]}, {\"categories\": [\"0\", \"1\", \"2\", \"3\", \"5\", \"6\", \"9\", \"13\", \"14\", \"16\", \"18\", \"20\", \"21\", \"24\", \"27\", \"28\", \"29\", \"30\", \"33\", \"35\", \"36\", \"38\"], \"mode\": \"lines\", \"name\": \"f1_score_macro_max\", \"stepped\": true, \"type\": \"scatter\", \"data\": [0.8981506112612494, 0.8988158809391092, 0.8988158809391092, 0.8988158809391092, 0.8988158809391092, 0.8988158809391092, 0.8988158809391092, 0.8988158809391092, 0.8988158809391092, 0.8988158809391092, 0.8988158809391092, 0.9333725567216621, 0.9333725567216621, 0.9333725567216621, 0.9333725567216621, 0.9333725567216621, 0.9333725567216621, 0.9333725567216621, 0.9333725567216621, 0.9333725567216621, 0.9333725567216621, 0.9453889672186815]}], \"precision_score_macro\": [{\"categories\": [\"0\", \"1\", \"2\", \"3\", \"5\", \"6\", \"9\", \"13\", \"14\", \"16\", \"18\", \"20\", \"21\", \"24\", \"27\", \"28\", \"29\", \"30\", \"33\", \"35\", \"36\", \"38\"], \"mode\": \"markers\", \"name\": \"precision_score_macro\", \"stepped\": false, \"type\": \"scatter\", \"data\": [0.8981579389221043, 0.8991302818257805, 0.7294936186274121, 0.8874348018763502, 0.8353713333687339, 0.8471904971918683, 0.8197932384087109, 0.6717656337136221, 0.8479981726207622, 0.667174757365685, 0.8739543761329914, 0.9339868680874132, 0.8471940349618698, 0.061873905389647516, 0.8775408334471105, 0.870831349774836, 0.8819366316411793, 0.6200137358498595, 0.8073824446877199, 0.8512469686423269, 0.733299835328677, 0.9455684063925768]}, {\"categories\": [\"0\", \"1\", \"2\", \"3\", \"5\", \"6\", \"9\", \"13\", \"14\", \"16\", \"18\", \"20\", \"21\", \"24\", \"27\", \"28\", \"29\", \"30\", \"33\", \"35\", \"36\", \"38\"], \"mode\": \"lines\", \"name\": \"precision_score_macro_max\", \"stepped\": true, \"type\": \"scatter\", \"data\": [0.8981579389221043, 0.8991302818257805, 0.8991302818257805, 0.8991302818257805, 0.8991302818257805, 0.8991302818257805, 0.8991302818257805, 0.8991302818257805, 0.8991302818257805, 0.8991302818257805, 0.8991302818257805, 0.9339868680874132, 0.9339868680874132, 0.9339868680874132, 0.9339868680874132, 0.9339868680874132, 0.9339868680874132, 0.9339868680874132, 0.9339868680874132, 0.9339868680874132, 0.9339868680874132, 0.9455684063925768]}], \"accuracy\": [{\"categories\": [\"0\", \"1\", \"2\", \"3\", \"5\", \"6\", \"9\", \"13\", \"14\", \"16\", \"18\", \"20\", \"21\", \"24\", \"27\", \"28\", \"29\", \"30\", \"33\", \"35\", \"36\", \"38\"], \"mode\": \"markers\", \"name\": \"accuracy\", \"stepped\": false, \"type\": \"scatter\", \"data\": [0.8984996990993993, 0.898997198097648, 0.7385001193097146, 0.8880004442223332, 0.8339989164576872, 0.8474974224599413, 0.820497408953181, 0.686996591794193, 0.8469969219594407, 0.6774923349136243, 0.8729959344651999, 0.9334994664829748, 0.8440014227120672, 0.24749562155859006, 0.8755081918500208, 0.8719986853420137, 0.8830021925973951, 0.6195093144118632, 0.8079954016985501, 0.8504936720828775, 0.7120006063034549, 0.9454972213592904]}, {\"categories\": [\"0\", \"1\", \"2\", \"3\", \"5\", \"6\", \"9\", \"13\", \"14\", \"16\", \"18\", \"20\", \"21\", \"24\", \"27\", \"28\", \"29\", \"30\", \"33\", \"35\", \"36\", \"38\"], \"mode\": \"lines\", \"name\": \"accuracy_max\", \"stepped\": true, \"type\": \"scatter\", \"data\": [0.8984996990993993, 0.898997198097648, 0.898997198097648, 0.898997198097648, 0.898997198097648, 0.898997198097648, 0.898997198097648, 0.898997198097648, 0.898997198097648, 0.898997198097648, 0.898997198097648, 0.9334994664829748, 0.9334994664829748, 0.9334994664829748, 0.9334994664829748, 0.9334994664829748, 0.9334994664829748, 0.9334994664829748, 0.9334994664829748, 0.9334994664829748, 0.9334994664829748, 0.9454972213592904]}], \"AUC_weighted\": [{\"categories\": [\"0\", \"1\", \"2\", \"3\", \"5\", \"6\", \"9\", \"13\", \"14\", \"16\", \"18\", \"20\", \"21\", \"24\", \"27\", \"28\", \"29\", \"30\", \"33\", \"35\", \"36\", \"38\"], \"mode\": \"markers\", \"name\": \"AUC_weighted\", \"stepped\": false, \"type\": \"scatter\", \"data\": [0.9860798608233009, 0.9847184696449602, 0.9070269327030891, 0.980406334984686, 0.9577837462242446, 0.960773052789686, 0.9539384682364802, 0.8724418496745959, 0.9682639528638918, 0.873166976132889, 0.9760702024825788, 0.9846119809084467, 0.9634116504483284, 0.5, 0.9798902654303708, 0.9779345829259297, 0.9811885151381174, 0.8630849275837692, 0.956929844240681, 0.9691658501139866, 0.9085105221108121, 0.9952841592313683]}, {\"categories\": [\"0\", \"1\", \"2\", \"3\", \"5\", \"6\", \"9\", \"13\", \"14\", \"16\", \"18\", \"20\", \"21\", \"24\", \"27\", \"28\", \"29\", \"30\", \"33\", \"35\", \"36\", \"38\"], \"mode\": \"lines\", \"name\": \"AUC_weighted_max\", \"stepped\": true, \"type\": \"scatter\", \"data\": [0.9860798608233009, 0.9860798608233009, 0.9860798608233009, 0.9860798608233009, 0.9860798608233009, 0.9860798608233009, 0.9860798608233009, 0.9860798608233009, 0.9860798608233009, 0.9860798608233009, 0.9860798608233009, 0.9860798608233009, 0.9860798608233009, 0.9860798608233009, 0.9860798608233009, 0.9860798608233009, 0.9860798608233009, 0.9860798608233009, 0.9860798608233009, 0.9860798608233009, 0.9860798608233009, 0.9952841592313683]}], \"AUC_micro\": [{\"categories\": [\"0\", \"1\", \"2\", \"3\", \"5\", \"6\", \"9\", \"13\", \"14\", \"16\", \"18\", \"20\", \"21\", \"24\", \"27\", \"28\", \"29\", \"30\", \"33\", \"35\", \"36\", \"38\"], \"mode\": \"markers\", \"name\": \"AUC_micro\", \"stepped\": false, \"type\": \"scatter\", \"data\": [0.9876296581909981, 0.9865023306926304, 0.9225874846898415, 0.9818743026680875, 0.9596707385059221, 0.963834816149447, 0.9589698409648709, 0.8981026098102104, 0.9713738339398855, 0.8924384512000337, 0.9783768383853312, 0.9856689771777671, 0.9666835991670956, 0.4893319106212659, 0.9817323910807625, 0.9790572712314115, 0.9823630228776552, 0.8640126011083368, 0.9639902276632855, 0.9730804899320159, 0.9068737420109664, 0.9956468319074592]}, {\"categories\": [\"0\", \"1\", \"2\", \"3\", \"5\", \"6\", \"9\", \"13\", \"14\", \"16\", \"18\", \"20\", \"21\", \"24\", \"27\", \"28\", \"29\", \"30\", \"33\", \"35\", \"36\", \"38\"], \"mode\": \"lines\", \"name\": \"AUC_micro_max\", \"stepped\": true, \"type\": \"scatter\", \"data\": [0.9876296581909981, 0.9876296581909981, 0.9876296581909981, 0.9876296581909981, 0.9876296581909981, 0.9876296581909981, 0.9876296581909981, 0.9876296581909981, 0.9876296581909981, 0.9876296581909981, 0.9876296581909981, 0.9876296581909981, 0.9876296581909981, 0.9876296581909981, 0.9876296581909981, 0.9876296581909981, 0.9876296581909981, 0.9876296581909981, 0.9876296581909981, 0.9876296581909981, 0.9876296581909981, 0.9956468319074592]}], \"weighted_accuracy\": [{\"categories\": [\"0\", \"1\", \"2\", \"3\", \"5\", \"6\", \"9\", \"13\", \"14\", \"16\", \"18\", \"20\", \"21\", \"24\", \"27\", \"28\", \"29\", \"30\", \"33\", \"35\", \"36\", \"38\"], \"mode\": \"markers\", \"name\": \"weighted_accuracy\", \"stepped\": false, \"type\": \"scatter\", \"data\": [0.898537219636109, 0.8988258246683657, 0.7379655416096836, 0.8881110557262004, 0.8336533525585152, 0.8468150221774531, 0.8196540972314095, 0.686286658937906, 0.8460726909066785, 0.6764984734767562, 0.872957319933057, 0.9331159942308641, 0.8436635974308552, 0.24488119171302744, 0.873836833264949, 0.872013313573056, 0.8829152237915633, 0.6172128697780713, 0.8072282613690952, 0.8497002920781632, 0.7063908409994935, 0.9452941338895542]}, {\"categories\": [\"0\", \"1\", \"2\", \"3\", \"5\", \"6\", \"9\", \"13\", \"14\", \"16\", \"18\", \"20\", \"21\", \"24\", \"27\", \"28\", \"29\", \"30\", \"33\", \"35\", \"36\", \"38\"], \"mode\": \"lines\", \"name\": \"weighted_accuracy_max\", \"stepped\": true, \"type\": \"scatter\", \"data\": [0.898537219636109, 0.8988258246683657, 0.8988258246683657, 0.8988258246683657, 0.8988258246683657, 0.8988258246683657, 0.8988258246683657, 0.8988258246683657, 0.8988258246683657, 0.8988258246683657, 0.8988258246683657, 0.9331159942308641, 0.9331159942308641, 0.9331159942308641, 0.9331159942308641, 0.9331159942308641, 0.9331159942308641, 0.9331159942308641, 0.9331159942308641, 0.9331159942308641, 0.9331159942308641, 0.9452941338895542]}], \"precision_score_weighted\": [{\"categories\": [\"0\", \"1\", \"2\", \"3\", \"5\", \"6\", \"9\", \"13\", \"14\", \"16\", \"18\", \"20\", \"21\", \"24\", \"27\", \"28\", \"29\", \"30\", \"33\", \"35\", \"36\", \"38\"], \"mode\": \"markers\", \"name\": \"precision_score_weighted\", \"stepped\": false, \"type\": \"scatter\", \"data\": [0.8984148711439738, 0.8994601916604185, 0.7295280971157284, 0.8877212194890957, 0.8361002863706579, 0.848068078684936, 0.8200771520331641, 0.6727667134063218, 0.8487398003302727, 0.6689798217907986, 0.8746293253011933, 0.9343669326101182, 0.847569857546012, 0.06144227430145818, 0.8786324685314266, 0.8716327126877793, 0.8824739938044148, 0.6225845646113148, 0.8082866607167108, 0.8518296146710503, 0.7383878340716974, 0.9457910712779993]}, {\"categories\": [\"0\", \"1\", \"2\", \"3\", \"5\", \"6\", \"9\", \"13\", \"14\", \"16\", \"18\", \"20\", \"21\", \"24\", \"27\", \"28\", \"29\", \"30\", \"33\", \"35\", \"36\", \"38\"], \"mode\": \"lines\", \"name\": \"precision_score_weighted_max\", \"stepped\": true, \"type\": \"scatter\", \"data\": [0.8984148711439738, 0.8994601916604185, 0.8994601916604185, 0.8994601916604185, 0.8994601916604185, 0.8994601916604185, 0.8994601916604185, 0.8994601916604185, 0.8994601916604185, 0.8994601916604185, 0.8994601916604185, 0.9343669326101182, 0.9343669326101182, 0.9343669326101182, 0.9343669326101182, 0.9343669326101182, 0.9343669326101182, 0.9343669326101182, 0.9343669326101182, 0.9343669326101182, 0.9343669326101182, 0.9457910712779993]}], \"log_loss\": [{\"categories\": [\"0\", \"1\", \"2\", \"3\", \"5\", \"6\", \"9\", \"13\", \"14\", \"16\", \"18\", \"20\", \"21\", \"24\", \"27\", \"28\", \"29\", \"30\", \"33\", \"35\", \"36\", \"38\"], \"mode\": \"markers\", \"name\": \"log_loss\", \"stepped\": false, \"type\": \"scatter\", \"data\": [0.2592786024622064, 0.2748704655108045, 1.1546718344780322, 0.663110264932867, 1.043624945093182, 0.9244760123195741, 0.959004271792601, 1.0385131854151581, 0.7459449195551183, 0.7867835418160564, 0.5141146342006467, 0.7435323645811255, 0.692124885660021, 1.3865928815984419, 0.44479660426610756, 0.6624329858719923, 0.6862214655981154, 1.10864889431186, 0.6122442640625102, 0.617082613112279, 1.2391296535347187, 0.41296440995018985]}, {\"categories\": [\"0\", \"1\", \"2\", \"3\", \"5\", \"6\", \"9\", \"13\", \"14\", \"16\", \"18\", \"20\", \"21\", \"24\", \"27\", \"28\", \"29\", \"30\", \"33\", \"35\", \"36\", \"38\"], \"mode\": \"lines\", \"name\": \"log_loss_min\", \"stepped\": true, \"type\": \"scatter\", \"data\": [0.2592786024622064, 0.2592786024622064, 0.2592786024622064, 0.2592786024622064, 0.2592786024622064, 0.2592786024622064, 0.2592786024622064, 0.2592786024622064, 0.2592786024622064, 0.2592786024622064, 0.2592786024622064, 0.2592786024622064, 0.2592786024622064, 0.2592786024622064, 0.2592786024622064, 0.2592786024622064, 0.2592786024622064, 0.2592786024622064, 0.2592786024622064, 0.2592786024622064, 0.2592786024622064, 0.2592786024622064]}], \"average_precision_score_weighted\": [{\"categories\": [\"0\", \"1\", \"2\", \"3\", \"5\", \"6\", \"9\", \"13\", \"14\", \"16\", \"18\", \"20\", \"21\", \"24\", \"27\", \"28\", \"29\", \"30\", \"33\", \"35\", \"36\", \"38\"], \"mode\": \"markers\", \"name\": \"average_precision_score_weighted\", \"stepped\": false, \"type\": \"scatter\", \"data\": [0.9580596310745837, 0.9510563593221227, 0.7630643061541784, 0.9487455934195587, 0.8775067297999746, 0.8919618796335343, 0.8677913654206545, 0.7119573308738195, 0.9055171210323182, 0.6788386662248884, 0.9283956591115325, 0.9543833711142424, 0.8921955689097808, 0.25091940840431315, 0.944039491810646, 0.9426557227092284, 0.9493599500117499, 0.6690580191133483, 0.8674255643881573, 0.9082016166220126, 0.7828405661908237, 0.9866347047208633]}, {\"categories\": [\"0\", \"1\", \"2\", \"3\", \"5\", \"6\", \"9\", \"13\", \"14\", \"16\", \"18\", \"20\", \"21\", \"24\", \"27\", \"28\", \"29\", \"30\", \"33\", \"35\", \"36\", \"38\"], \"mode\": \"lines\", \"name\": \"average_precision_score_weighted_max\", \"stepped\": true, \"type\": \"scatter\", \"data\": [0.9580596310745837, 0.9580596310745837, 0.9580596310745837, 0.9580596310745837, 0.9580596310745837, 0.9580596310745837, 0.9580596310745837, 0.9580596310745837, 0.9580596310745837, 0.9580596310745837, 0.9580596310745837, 0.9580596310745837, 0.9580596310745837, 0.9580596310745837, 0.9580596310745837, 0.9580596310745837, 0.9580596310745837, 0.9580596310745837, 0.9580596310745837, 0.9580596310745837, 0.9580596310745837, 0.9866347047208633]}]}, \"metricName\": null, \"primaryMetricName\": \"accuracy\", \"showLegend\": false}, \"run_metrics\": [{\"name\": \"experiment_status\", \"run_id\": \"AutoML_1120354f-4b6b-49a4-9fa1-7b0ef45c1f0d\", \"categories\": [0, 1, 2, 3, 4, 5, 6, 7, 8, 9, 10, 11, 12, 13], \"series\": [{\"data\": [\"DatasetEvaluation\", \"FeaturesGeneration\", \"DatasetFeaturization\", \"DatasetFeaturizationCompleted\", \"DatasetCrossValidationSplit\", \"ModelSelection\", \"BestRunExplainModel\", \"ModelExplanationDataSetSetup\", \"PickSurrogateModel\", \"EngineeredFeatureExplanations\", \"EngineeredFeatureExplanations\", \"RawFeaturesExplanations\", \"RawFeaturesExplanations\", \"BestRunExplainModel\"]}]}, {\"name\": \"experiment_status_description\", \"run_id\": \"AutoML_1120354f-4b6b-49a4-9fa1-7b0ef45c1f0d\", \"categories\": [0, 1, 2, 3, 4, 5, 6, 7, 8, 9, 10, 11, 12, 13], \"series\": [{\"data\": [\"Gathering dataset statistics.\", \"Generating features for the dataset.\", \"Beginning to fit featurizers and featurize the dataset.\", \"Completed fit featurizers and featurizing the dataset.\", \"Generating individually featurized CV splits.\", \"Beginning model selection.\", \"Best run model explanations started\", \"Model explanations data setup completed\", \"Choosing LightGBM as the surrogate model for explanations\", \"Computation of engineered features started\", \"Computation of engineered features completed\", \"Computation of raw features started\", \"Computation of raw features completed\", \"Best run model explanations completed\"]}]}, {\"name\": \"average_precision_score_micro\", \"run_id\": \"AutoML_1120354f-4b6b-49a4-9fa1-7b0ef45c1f0d\", \"categories\": [0], \"series\": [{\"data\": [0.9872404027040314]}]}, {\"name\": \"f1_score_macro\", \"run_id\": \"AutoML_1120354f-4b6b-49a4-9fa1-7b0ef45c1f0d\", \"categories\": [0], \"series\": [{\"data\": [0.9453889672186815]}]}, {\"name\": \"average_precision_score_weighted\", \"run_id\": \"AutoML_1120354f-4b6b-49a4-9fa1-7b0ef45c1f0d\", \"categories\": [0], \"series\": [{\"data\": [0.9866347047208633]}]}, {\"name\": \"accuracy\", \"run_id\": \"AutoML_1120354f-4b6b-49a4-9fa1-7b0ef45c1f0d\", \"categories\": [0], \"series\": [{\"data\": [0.9454972213592904]}]}, {\"name\": \"AUC_micro\", \"run_id\": \"AutoML_1120354f-4b6b-49a4-9fa1-7b0ef45c1f0d\", \"categories\": [0], \"series\": [{\"data\": [0.9956468319074592]}]}, {\"name\": \"precision_score_macro\", \"run_id\": \"AutoML_1120354f-4b6b-49a4-9fa1-7b0ef45c1f0d\", \"categories\": [0], \"series\": [{\"data\": [0.9455684063925768]}]}, {\"name\": \"weighted_accuracy\", \"run_id\": \"AutoML_1120354f-4b6b-49a4-9fa1-7b0ef45c1f0d\", \"categories\": [0], \"series\": [{\"data\": [0.9452941338895542]}]}, {\"name\": \"precision_score_micro\", \"run_id\": \"AutoML_1120354f-4b6b-49a4-9fa1-7b0ef45c1f0d\", \"categories\": [0], \"series\": [{\"data\": [0.9454972213592904]}]}, {\"name\": \"AUC_weighted\", \"run_id\": \"AutoML_1120354f-4b6b-49a4-9fa1-7b0ef45c1f0d\", \"categories\": [0], \"series\": [{\"data\": [0.9952841592313683]}]}, {\"name\": \"f1_score_weighted\", \"run_id\": \"AutoML_1120354f-4b6b-49a4-9fa1-7b0ef45c1f0d\", \"categories\": [0], \"series\": [{\"data\": [0.9453918878805553]}]}, {\"name\": \"matthews_correlation\", \"run_id\": \"AutoML_1120354f-4b6b-49a4-9fa1-7b0ef45c1f0d\", \"categories\": [0], \"series\": [{\"data\": [0.927421302139893]}]}, {\"name\": \"norm_macro_recall\", \"run_id\": \"AutoML_1120354f-4b6b-49a4-9fa1-7b0ef45c1f0d\", \"categories\": [0], \"series\": [{\"data\": [0.927613165739266]}]}, {\"name\": \"recall_score_micro\", \"run_id\": \"AutoML_1120354f-4b6b-49a4-9fa1-7b0ef45c1f0d\", \"categories\": [0], \"series\": [{\"data\": [0.9454972213592904]}]}, {\"name\": \"f1_score_micro\", \"run_id\": \"AutoML_1120354f-4b6b-49a4-9fa1-7b0ef45c1f0d\", \"categories\": [0], \"series\": [{\"data\": [0.9454972213592904]}]}, {\"name\": \"average_precision_score_macro\", \"run_id\": \"AutoML_1120354f-4b6b-49a4-9fa1-7b0ef45c1f0d\", \"categories\": [0], \"series\": [{\"data\": [0.9865760810926795]}]}, {\"name\": \"AUC_macro\", \"run_id\": \"AutoML_1120354f-4b6b-49a4-9fa1-7b0ef45c1f0d\", \"categories\": [0], \"series\": [{\"data\": [0.9952728802699097]}]}, {\"name\": \"recall_score_macro\", \"run_id\": \"AutoML_1120354f-4b6b-49a4-9fa1-7b0ef45c1f0d\", \"categories\": [0], \"series\": [{\"data\": [0.9457098743044495]}]}, {\"name\": \"balanced_accuracy\", \"run_id\": \"AutoML_1120354f-4b6b-49a4-9fa1-7b0ef45c1f0d\", \"categories\": [0], \"series\": [{\"data\": [0.9457098743044495]}]}, {\"name\": \"recall_score_weighted\", \"run_id\": \"AutoML_1120354f-4b6b-49a4-9fa1-7b0ef45c1f0d\", \"categories\": [0], \"series\": [{\"data\": [0.9454972213592904]}]}, {\"name\": \"log_loss\", \"run_id\": \"AutoML_1120354f-4b6b-49a4-9fa1-7b0ef45c1f0d\", \"categories\": [0], \"series\": [{\"data\": [0.41296440995018985]}]}, {\"name\": \"precision_score_weighted\", \"run_id\": \"AutoML_1120354f-4b6b-49a4-9fa1-7b0ef45c1f0d\", \"categories\": [0], \"series\": [{\"data\": [0.9457910712779993]}]}], \"run_logs\": \"\\nRun is completed.\", \"graph\": {}, \"widget_settings\": {\"childWidgetDisplay\": \"popup\", \"send_telemetry\": false, \"log_level\": \"INFO\", \"sdk_version\": \"1.37.0\"}, \"loading\": false}"
          },
          "metadata": {}
        }
      ],
      "execution_count": 9,
      "metadata": {
        "gather": {
          "logged": 1644592800121
        },
        "jupyter": {
          "outputs_hidden": false,
          "source_hidden": false
        },
        "nteract": {
          "transient": {
            "deleting": false
          }
        }
      }
    },
    {
      "cell_type": "markdown",
      "source": [
        "## Best Model\n",
        "\n",
        "TODO: In the cell below, get the best model from the automl experiments and display all the properties of the model.\n",
        "\n"
      ],
      "metadata": {}
    },
    {
      "cell_type": "code",
      "source": [
        "best_run, best_model = remote_run.get_output()\n",
        "print(best_run)\n",
        "print(best_model)"
      ],
      "outputs": [
        {
          "output_type": "stream",
          "name": "stderr",
          "text": "WARNING:root:The version of the SDK does not match the version the model was trained on.\nWARNING:root:The consistency in the result may not be guaranteed.\nWARNING:root:Package:azureml-automl-core, training version:1.38.0, current version:1.37.0\nPackage:azureml-automl-runtime, training version:1.38.0, current version:1.37.0\nPackage:azureml-core, training version:1.38.0, current version:1.37.0\nPackage:azureml-dataprep, training version:2.26.0, current version:2.25.0\nPackage:azureml-dataprep-rslex, training version:2.2.0, current version:2.1.0\nPackage:azureml-dataset-runtime, training version:1.38.0, current version:1.37.0\nPackage:azureml-defaults, training version:1.38.0, current version:1.37.0\nPackage:azureml-interpret, training version:1.38.0, current version:1.37.0\nPackage:azureml-mlflow, training version:1.38.0, current version:1.37.0\nPackage:azureml-pipeline-core, training version:1.38.0, current version:1.37.0\nPackage:azureml-responsibleai, training version:1.38.0, current version:1.37.0\nPackage:azureml-telemetry, training version:1.38.0, current version:1.37.0\nPackage:azureml-train-automl-client, training version:1.38.0, current version:1.37.0\nPackage:azureml-train-automl-runtime, training version:1.38.0, current version:1.37.0\nPackage:azureml-train-core, training version:1.38.0, current version:1.37.0\nPackage:azureml-train-restclients-hyperdrive, training version:1.38.0, current version:1.37.0\nWARNING:root:Please ensure the version of your local conda dependencies match the version on which your model was trained in order to properly retrieve your model.\n"
        },
        {
          "output_type": "stream",
          "name": "stdout",
          "text": "Run(Experiment: tguner-automl,\nId: AutoML_1120354f-4b6b-49a4-9fa1-7b0ef45c1f0d_38,\nType: azureml.scriptrun,\nStatus: Completed)\nPipeline(memory=None,\n         steps=[('datatransformer',\n                 DataTransformer(enable_dnn=False, enable_feature_sweeping=True, feature_sweeping_config={}, feature_sweeping_timeout=86400, featurization_config=None, force_text_dnn=False, is_cross_validation=True, is_onnx_compatible=False, observer=None, task='classification', working_dir='/mnt/batch/tasks/shared/LS_root/jobs/...\n), random_state=0, reg_alpha=0, reg_lambda=1.5625, subsample=0.5, tree_method='auto'))], verbose=False)), ('12', Pipeline(memory=None, steps=[('maxabsscaler', MaxAbsScaler(copy=True)), ('logisticregression', LogisticRegression(C=719.6856730011514, class_weight=None, dual=False, fit_intercept=True, intercept_scaling=1, l1_ratio=None, max_iter=100, multi_class='multinomial', n_jobs=1, penalty='l2', random_state=None, solver='lbfgs', tol=0.0001, verbose=0, warm_start=False))], verbose=False))], flatten_transform=None, weights=[0.4, 0.1, 0.1, 0.2, 0.1, 0.1]))],\n         verbose=False)\n"
        }
      ],
      "execution_count": 10,
      "metadata": {
        "gather": {
          "logged": 1644592860451
        },
        "jupyter": {
          "outputs_hidden": false,
          "source_hidden": false
        },
        "nteract": {
          "transient": {
            "deleting": false
          }
        }
      }
    },
    {
      "cell_type": "code",
      "source": [
        "best_run.get_file_names()"
      ],
      "outputs": [
        {
          "output_type": "execute_result",
          "execution_count": 13,
          "data": {
            "text/plain": "['accuracy_table',\n 'automl_driver.py',\n 'azureml-logs/55_azureml-execution-tvmps_2bc67386f7b604bc1541d4e8a0d5478a209c1b94c2db8d9fd16b1bdeb89442c8_d.txt',\n 'azureml-logs/65_job_prep-tvmps_2bc67386f7b604bc1541d4e8a0d5478a209c1b94c2db8d9fd16b1bdeb89442c8_d.txt',\n 'azureml-logs/70_driver_log.txt',\n 'azureml-logs/75_job_post-tvmps_2bc67386f7b604bc1541d4e8a0d5478a209c1b94c2db8d9fd16b1bdeb89442c8_d.txt',\n 'confusion_matrix',\n 'explanation/950b5b23/classes.interpret.json',\n 'explanation/950b5b23/eval_data_viz.interpret.json',\n 'explanation/950b5b23/expected_values.interpret.json',\n 'explanation/950b5b23/features.interpret.json',\n 'explanation/950b5b23/global_names/0.interpret.json',\n 'explanation/950b5b23/global_rank/0.interpret.json',\n 'explanation/950b5b23/global_values/0.interpret.json',\n 'explanation/950b5b23/local_importance_values.interpret.json',\n 'explanation/950b5b23/per_class_names/0.interpret.json',\n 'explanation/950b5b23/per_class_rank/0.interpret.json',\n 'explanation/950b5b23/per_class_values/0.interpret.json',\n 'explanation/950b5b23/rich_metadata.interpret.json',\n 'explanation/950b5b23/true_ys_viz.interpret.json',\n 'explanation/950b5b23/visualization_dict.interpret.json',\n 'explanation/950b5b23/ys_pred_proba_viz.interpret.json',\n 'explanation/950b5b23/ys_pred_viz.interpret.json',\n 'explanation/cde7172b/classes.interpret.json',\n 'explanation/cde7172b/expected_values.interpret.json',\n 'explanation/cde7172b/features.interpret.json',\n 'explanation/cde7172b/global_names/0.interpret.json',\n 'explanation/cde7172b/global_rank/0.interpret.json',\n 'explanation/cde7172b/global_values/0.interpret.json',\n 'explanation/cde7172b/local_importance_values.interpret.json',\n 'explanation/cde7172b/per_class_names/0.interpret.json',\n 'explanation/cde7172b/per_class_rank/0.interpret.json',\n 'explanation/cde7172b/per_class_values/0.interpret.json',\n 'explanation/cde7172b/rich_metadata.interpret.json',\n 'explanation/cde7172b/true_ys_viz.interpret.json',\n 'explanation/cde7172b/visualization_dict.interpret.json',\n 'explanation/cde7172b/ys_pred_proba_viz.interpret.json',\n 'explanation/cde7172b/ys_pred_viz.interpret.json',\n 'logs/azureml/91_azureml.log',\n 'logs/azureml/azureml_automl.log',\n 'logs/azureml/job_prep_azureml.log',\n 'logs/azureml/job_release_azureml.log',\n 'outputs/conda_env_v_1_0_0.yml',\n 'outputs/engineered_feature_names.json',\n 'outputs/env_dependencies.json',\n 'outputs/featurization_summary.json',\n 'outputs/internal_cross_validated_models.pkl',\n 'outputs/model.pkl',\n 'outputs/pipeline_graph.json',\n 'outputs/scoring_file_v_1_0_0.py',\n 'outputs/scoring_file_v_2_0_0.py']"
          },
          "metadata": {}
        }
      ],
      "execution_count": 13,
      "metadata": {
        "jupyter": {
          "source_hidden": false,
          "outputs_hidden": false
        },
        "nteract": {
          "transient": {
            "deleting": false
          }
        },
        "gather": {
          "logged": 1644593158922
        }
      }
    },
    {
      "cell_type": "code",
      "source": [
        "best_run.download_file('outputs/conda_env_v_1_0_0.yml', './conda_env.yml')"
      ],
      "outputs": [],
      "execution_count": 65,
      "metadata": {
        "jupyter": {
          "source_hidden": false,
          "outputs_hidden": false
        },
        "nteract": {
          "transient": {
            "deleting": false
          }
        },
        "gather": {
          "logged": 1644604460744
        }
      }
    },
    {
      "cell_type": "markdown",
      "source": [
        "## Model Deployment\n",
        "\n",
        "Remember you have to deploy only one of the two models you trained but you still need to register both the models. Perform the steps in the rest of this notebook only if you wish to deploy this model.\n",
        "\n",
        "\n",
        "TODO: In the cell below, register the model, create an inference config and deploy the model as a web service."
      ],
      "metadata": {}
    },
    {
      "cell_type": "code",
      "source": [
        "import joblib\r\n",
        "model_name = best_run.properties['model_name']\r\n",
        "joblib.dump(best_model, 'automl_model.pkl')\r\n",
        "model = remote_run.register_model(model_name=model_name, description='AutoML model', tags=None)"
      ],
      "outputs": [],
      "execution_count": 14,
      "metadata": {
        "jupyter": {
          "source_hidden": false,
          "outputs_hidden": false
        },
        "nteract": {
          "transient": {
            "deleting": false
          }
        },
        "gather": {
          "logged": 1644593185803
        }
      }
    },
    {
      "cell_type": "code",
      "source": [
        "\n",
        "from azureml.core.webservice import AciWebservice\n",
        "from azureml.core.model import InferenceConfig\n",
        "from azureml.core.model import Model\n",
        "from azureml.core import Environment\n",
        "\n",
        "\n",
        "inference_config = InferenceConfig(entry_script='./score.py')\n",
        "\n",
        "aciconfig = AciWebservice.deploy_configuration(cpu_cores=2, \n",
        "                                               memory_gb=2, \n",
        "                                               )\n",
        "\n",
        "service = Model.deploy(workspace=ws, \n",
        "                           name='tguner-deploy', \n",
        "                           models=[model], \n",
        "                           inference_config=inference_config, \n",
        "                           deployment_config=aciconfig,\n",
        "                           overwrite=True)\n",
        "\n",
        "service.wait_for_deployment(True)\n",
        "print(service.state)\n"
      ],
      "outputs": [
        {
          "output_type": "stream",
          "name": "stdout",
          "text": "Tips: You can try get_logs(): https://aka.ms/debugimage#dockerlog or local deployment: https://aka.ms/debugimage#debug-locally to debug if deployment takes longer than 10 minutes.\nRunning\n2022-02-11 18:10:20+00:00 Creating Container Registry if not exists.\n2022-02-11 18:10:22+00:00 Use the existing image.\n2022-02-11 18:10:22+00:00 Generating deployment configuration.\n2022-02-11 18:10:23+00:00 Submitting deployment to compute.\n2022-02-11 18:10:25+00:00 Checking the status of deployment tguner-deploy..\n2022-02-11 18:14:39+00:00 Checking the status of inference endpoint tguner-deploy.\nSucceeded\nACI service creation operation finished, operation \"Succeeded\"\nHealthy\n"
        }
      ],
      "execution_count": 60,
      "metadata": {
        "gather": {
          "logged": 1644603284903
        },
        "jupyter": {
          "outputs_hidden": false,
          "source_hidden": false
        },
        "nteract": {
          "transient": {
            "deleting": false
          }
        }
      }
    },
    {
      "cell_type": "markdown",
      "source": [
        "TODO: In the cell below, send a request to the web service you deployed to test it."
      ],
      "metadata": {
        "collapsed": true,
        "gather": {
          "logged": 1598431657736
        },
        "jupyter": {
          "outputs_hidden": false,
          "source_hidden": false
        },
        "nteract": {
          "transient": {
            "deleting": false
          }
        }
      }
    },
    {
      "cell_type": "code",
      "source": [
        "import requests\n",
        "import json\n",
        "\n",
        "data = df[:5].drop(['price_range'], axis=1).to_json(orient='records')\n",
        "service.run(data)\n"
      ],
      "outputs": [
        {
          "output_type": "execute_result",
          "execution_count": 61,
          "data": {
            "text/plain": "'{\"Prediction\": [1, 2, 2, 2, 1]}'"
          },
          "metadata": {}
        }
      ],
      "execution_count": 61,
      "metadata": {
        "gather": {
          "logged": 1644603297016
        },
        "jupyter": {
          "outputs_hidden": false,
          "source_hidden": false
        },
        "nteract": {
          "transient": {
            "deleting": false
          }
        }
      }
    },
    {
      "cell_type": "markdown",
      "source": [
        "TODO: In the cell below, print the logs of the web service and delete the service"
      ],
      "metadata": {
        "collapsed": true,
        "gather": {
          "logged": 1598432765711
        },
        "jupyter": {
          "outputs_hidden": false,
          "source_hidden": false
        },
        "nteract": {
          "transient": {
            "deleting": false
          }
        }
      }
    },
    {
      "cell_type": "code",
      "source": [
        "print(service.get_logs())\n",
        "service.delete()"
      ],
      "outputs": [
        {
          "output_type": "stream",
          "name": "stdout",
          "text": "2022-02-11T18:13:56,585287700+00:00 - iot-server/run \n2022-02-11T18:13:56,585880700+00:00 - rsyslog/run \n2022-02-11T18:13:56,587483500+00:00 - gunicorn/run \nDynamic Python package installation is disabled.\nStarting HTTP server\n2022-02-11T18:13:56,605752900+00:00 - nginx/run \nrsyslogd: /azureml-envs/azureml_6797cf9b513e59b405ce80f3e9222a7d/lib/libuuid.so.1: no version information available (required by rsyslogd)\nEdgeHubConnectionString and IOTEDGE_IOTHUBHOSTNAME are not set. Exiting...\n2022-02-11T18:13:56,865473200+00:00 - iot-server/finish 1 0\n2022-02-11T18:13:56,868132800+00:00 - Exit code 1 is normal. Not restarting iot-server.\nStarting gunicorn 20.1.0\nListening at: http://127.0.0.1:31311 (78)\nUsing worker: sync\nworker timeout is set to 300\nBooting worker with pid: 109\nSPARK_HOME not set. Skipping PySpark Initialization.\nGenerating new fontManager, this may take some time...\nInitializing logger\n2022-02-11 18:13:59,692 | root | INFO | Starting up app insights client\nlogging socket was found. logging is available.\nlogging socket was found. logging is available.\n2022-02-11 18:13:59,692 | root | INFO | Starting up request id generator\n2022-02-11 18:13:59,692 | root | INFO | Starting up app insight hooks\n2022-02-11 18:13:59,693 | root | INFO | Invoking user's init function\n2022-02-11 18:14:04,351 | root | INFO | Users's init has completed successfully\n2022-02-11 18:14:04,357 | root | INFO | Skipping middleware: dbg_model_info as it's not enabled.\n2022-02-11 18:14:04,358 | root | INFO | Skipping middleware: dbg_resource_usage as it's not enabled.\n2022-02-11 18:14:04,362 | root | INFO | Scoring timeout is found from os.environ: 60000 ms\n2022-02-11 18:14:39,741 | root | INFO | Swagger file not present\n2022-02-11 18:14:39,741 | root | INFO | 404\n127.0.0.1 - - [11/Feb/2022:18:14:39 +0000] \"GET /swagger.json HTTP/1.0\" 404 19 \"-\" \"Go-http-client/1.1\"\n2022-02-11 18:14:44,672 | root | INFO | Swagger file not present\n2022-02-11 18:14:44,672 | root | INFO | 404\n127.0.0.1 - - [11/Feb/2022:18:14:44 +0000] \"GET /swagger.json HTTP/1.0\" 404 19 \"-\" \"Go-http-client/1.1\"\n2022-02-11 18:14:56,542 | root | INFO | Scoring Timer is set to 60.0 seconds\n2022-02-11 18:14:56,713 | root | INFO | 200\n127.0.0.1 - - [11/Feb/2022:18:14:56 +0000] \"POST /score HTTP/1.0\" 200 35 \"-\" \"python-requests/2.26.0\"\n2022-02-11 18:30:33,438 | root | INFO | Swagger file not present\n2022-02-11 18:30:33,439 | root | INFO | 404\n127.0.0.1 - - [11/Feb/2022:18:30:33 +0000] \"GET /swagger.json HTTP/1.0\" 404 19 \"-\" \"Go-http-client/1.1\"\n\n"
        }
      ],
      "execution_count": 66,
      "metadata": {
        "jupyter": {
          "outputs_hidden": false,
          "source_hidden": false
        },
        "nteract": {
          "transient": {
            "deleting": false
          }
        },
        "gather": {
          "logged": 1644604537675
        }
      }
    },
    {
      "cell_type": "markdown",
      "source": [
        "**Submission Checklist**\n",
        "- I have registered the model.\n",
        "- I have deployed the model with the best accuracy as a webservice.\n",
        "- I have tested the webservice by sending a request to the model endpoint.\n",
        "- I have deleted the webservice and shutdown all the computes that I have used.\n",
        "- I have taken a screenshot showing the model endpoint as active.\n",
        "- The project includes a file containing the environment details.\n"
      ],
      "metadata": {}
    },
    {
      "cell_type": "markdown",
      "source": [],
      "metadata": {}
    }
  ],
  "metadata": {
    "kernel_info": {
      "name": "python3"
    },
    "kernelspec": {
      "name": "python3",
      "language": "python",
      "display_name": "Python 3"
    },
    "language_info": {
      "name": "python",
      "version": "3.6.9",
      "mimetype": "text/x-python",
      "codemirror_mode": {
        "name": "ipython",
        "version": 3
      },
      "pygments_lexer": "ipython3",
      "nbconvert_exporter": "python",
      "file_extension": ".py"
    },
    "nteract": {
      "version": "nteract-front-end@1.0.0"
    },
    "microsoft": {
      "host": {
        "AzureML": {
          "notebookHasBeenCompleted": true
        }
      }
    }
  },
  "nbformat": 4,
  "nbformat_minor": 2
}